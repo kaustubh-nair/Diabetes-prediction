{
 "cells": [
  {
   "cell_type": "code",
   "execution_count": 1,
   "metadata": {},
   "outputs": [],
   "source": [
    "import pandas as pd\n",
    "import numpy as np\n",
    "import matplotlib.pyplot as pyplot\n",
    "%matplotlib inline\n",
    "from pandas.plotting import scatter_matrix\n",
<<<<<<< HEAD
=======
    "from sklearn.utils import shuffle\n",
>>>>>>> d2a9bbca404399701ca486d843b8888f0b470a96
    "from sklearn.linear_model import LogisticRegression, LinearRegression\n",
    "from sklearn.model_selection import train_test_split "
   ]
  },
  {
   "cell_type": "code",
   "execution_count": 2,
   "metadata": {},
   "outputs": [],
   "source": [
    "df = pd.read_csv(\"Pima_Indian_diabetes.csv\")"
   ]
  },
  {
   "cell_type": "code",
   "execution_count": 3,
   "metadata": {},
   "outputs": [],
   "source": [
    "df.describe()\n",
    "df = shuffle(df)"
   ]
  },
  {
   "cell_type": "code",
   "execution_count": 4,
   "metadata": {},
   "outputs": [],
   "source": [
    "features = ['Pregnancies','Glucose', 'BloodPressure','SkinThickness', 'Insulin', 'BMI', 'DiabetesPedigreeFunction', 'Age']"
   ]
  },
  {
   "cell_type": "code",
   "execution_count": 5,
   "metadata": {},
   "outputs": [],
   "source": [
    "for feature in features:\n",
    "    df[feature].fillna(value=df[feature].mean(), inplace=True)"
   ]
  },
  {
   "cell_type": "code",
   "execution_count": 6,
   "metadata": {},
   "outputs": [
    {
     "data": {
      "text/html": [
       "<div>\n",
       "<style scoped>\n",
       "    .dataframe tbody tr th:only-of-type {\n",
       "        vertical-align: middle;\n",
       "    }\n",
       "\n",
       "    .dataframe tbody tr th {\n",
       "        vertical-align: top;\n",
       "    }\n",
       "\n",
       "    .dataframe thead th {\n",
       "        text-align: right;\n",
       "    }\n",
       "</style>\n",
       "<table border=\"1\" class=\"dataframe\">\n",
       "  <thead>\n",
       "    <tr style=\"text-align: right;\">\n",
       "      <th></th>\n",
       "      <th>Pregnancies</th>\n",
       "      <th>Glucose</th>\n",
       "      <th>BloodPressure</th>\n",
       "      <th>SkinThickness</th>\n",
       "      <th>Insulin</th>\n",
       "      <th>BMI</th>\n",
       "      <th>DiabetesPedigreeFunction</th>\n",
       "      <th>Age</th>\n",
       "      <th>Outcome</th>\n",
       "    </tr>\n",
       "  </thead>\n",
       "  <tbody>\n",
       "    <tr>\n",
       "      <th>count</th>\n",
       "      <td>768.000000</td>\n",
       "      <td>768.000000</td>\n",
       "      <td>768.000000</td>\n",
       "      <td>768.000000</td>\n",
       "      <td>768.000000</td>\n",
       "      <td>768.000000</td>\n",
       "      <td>768.000000</td>\n",
       "      <td>768.000000</td>\n",
       "      <td>768.000000</td>\n",
       "    </tr>\n",
       "    <tr>\n",
       "      <th>mean</th>\n",
       "      <td>3.866601</td>\n",
       "      <td>119.966097</td>\n",
       "      <td>68.886078</td>\n",
       "      <td>20.309879</td>\n",
       "      <td>79.799479</td>\n",
       "      <td>31.711151</td>\n",
       "      <td>0.471876</td>\n",
       "      <td>33.761336</td>\n",
       "      <td>0.348958</td>\n",
       "    </tr>\n",
       "    <tr>\n",
       "      <th>std</th>\n",
       "      <td>3.420480</td>\n",
       "      <td>32.028277</td>\n",
       "      <td>19.427448</td>\n",
       "      <td>15.743756</td>\n",
       "      <td>115.244002</td>\n",
       "      <td>8.483295</td>\n",
       "      <td>0.331329</td>\n",
       "      <td>12.144139</td>\n",
       "      <td>0.476951</td>\n",
       "    </tr>\n",
       "    <tr>\n",
       "      <th>min</th>\n",
       "      <td>-5.412815</td>\n",
       "      <td>0.000000</td>\n",
       "      <td>-3.496455</td>\n",
       "      <td>-11.945520</td>\n",
       "      <td>0.000000</td>\n",
       "      <td>-16.288921</td>\n",
       "      <td>0.078000</td>\n",
       "      <td>21.000000</td>\n",
       "      <td>0.000000</td>\n",
       "    </tr>\n",
       "    <tr>\n",
       "      <th>25%</th>\n",
       "      <td>1.000000</td>\n",
       "      <td>99.000000</td>\n",
       "      <td>62.000000</td>\n",
       "      <td>0.000000</td>\n",
       "      <td>0.000000</td>\n",
       "      <td>27.275000</td>\n",
       "      <td>0.243750</td>\n",
       "      <td>24.000000</td>\n",
       "      <td>0.000000</td>\n",
       "    </tr>\n",
       "    <tr>\n",
       "      <th>50%</th>\n",
       "      <td>3.000000</td>\n",
       "      <td>117.000000</td>\n",
       "      <td>72.000000</td>\n",
       "      <td>22.000000</td>\n",
       "      <td>30.500000</td>\n",
       "      <td>32.000000</td>\n",
       "      <td>0.372500</td>\n",
       "      <td>30.000000</td>\n",
       "      <td>0.000000</td>\n",
       "    </tr>\n",
       "    <tr>\n",
       "      <th>75%</th>\n",
       "      <td>6.000000</td>\n",
       "      <td>139.000000</td>\n",
       "      <td>80.000000</td>\n",
       "      <td>32.000000</td>\n",
       "      <td>127.250000</td>\n",
       "      <td>36.425000</td>\n",
       "      <td>0.626250</td>\n",
       "      <td>41.000000</td>\n",
       "      <td>1.000000</td>\n",
       "    </tr>\n",
       "    <tr>\n",
       "      <th>max</th>\n",
       "      <td>17.000000</td>\n",
       "      <td>199.000000</td>\n",
       "      <td>122.000000</td>\n",
       "      <td>99.000000</td>\n",
       "      <td>846.000000</td>\n",
       "      <td>67.100000</td>\n",
       "      <td>2.420000</td>\n",
       "      <td>81.000000</td>\n",
       "      <td>1.000000</td>\n",
       "    </tr>\n",
       "  </tbody>\n",
       "</table>\n",
       "</div>"
      ],
      "text/plain": [
       "       Pregnancies     Glucose  BloodPressure  SkinThickness     Insulin  \\\n",
       "count   768.000000  768.000000     768.000000     768.000000  768.000000   \n",
       "mean      3.866601  119.966097      68.886078      20.309879   79.799479   \n",
       "std       3.420480   32.028277      19.427448      15.743756  115.244002   \n",
       "min      -5.412815    0.000000      -3.496455     -11.945520    0.000000   \n",
       "25%       1.000000   99.000000      62.000000       0.000000    0.000000   \n",
       "50%       3.000000  117.000000      72.000000      22.000000   30.500000   \n",
       "75%       6.000000  139.000000      80.000000      32.000000  127.250000   \n",
       "max      17.000000  199.000000     122.000000      99.000000  846.000000   \n",
       "\n",
       "              BMI  DiabetesPedigreeFunction         Age     Outcome  \n",
       "count  768.000000                768.000000  768.000000  768.000000  \n",
       "mean    31.711151                  0.471876   33.761336    0.348958  \n",
       "std      8.483295                  0.331329   12.144139    0.476951  \n",
       "min    -16.288921                  0.078000   21.000000    0.000000  \n",
       "25%     27.275000                  0.243750   24.000000    0.000000  \n",
       "50%     32.000000                  0.372500   30.000000    0.000000  \n",
       "75%     36.425000                  0.626250   41.000000    1.000000  \n",
       "max     67.100000                  2.420000   81.000000    1.000000  "
      ]
     },
     "execution_count": 6,
     "metadata": {},
     "output_type": "execute_result"
    }
   ],
   "source": [
    "df.describe()"
   ]
  },
  {
   "cell_type": "code",
<<<<<<< HEAD
   "execution_count": 4,
   "metadata": {},
   "outputs": [],
   "source": [
    "features = ['Pregnancies','Glucose', 'BloodPressure','SkinThickness', 'Insulin', 'BMI', 'DiabetesPedigreeFunction', 'Age']"
   ]
  },
  {
   "cell_type": "code",
   "execution_count": 5,
=======
   "execution_count": 7,
>>>>>>> d2a9bbca404399701ca486d843b8888f0b470a96
   "metadata": {},
   "outputs": [],
   "source": [
    "for feature in features:\n",
    "    df.loc[df[feature] < 0, feature] = 0"
   ]
  },
  {
   "cell_type": "code",
   "execution_count": 6,
   "metadata": {},
   "outputs": [
    {
     "data": {
      "text/html": [
       "<div>\n",
       "<style scoped>\n",
       "    .dataframe tbody tr th:only-of-type {\n",
       "        vertical-align: middle;\n",
       "    }\n",
       "\n",
       "    .dataframe tbody tr th {\n",
       "        vertical-align: top;\n",
       "    }\n",
       "\n",
       "    .dataframe thead th {\n",
       "        text-align: right;\n",
       "    }\n",
       "</style>\n",
       "<table border=\"1\" class=\"dataframe\">\n",
       "  <thead>\n",
       "    <tr style=\"text-align: right;\">\n",
       "      <th></th>\n",
       "      <th>Pregnancies</th>\n",
       "      <th>Glucose</th>\n",
       "      <th>BloodPressure</th>\n",
       "      <th>SkinThickness</th>\n",
       "      <th>Insulin</th>\n",
       "      <th>BMI</th>\n",
       "      <th>DiabetesPedigreeFunction</th>\n",
       "      <th>Age</th>\n",
       "      <th>Outcome</th>\n",
       "    </tr>\n",
       "  </thead>\n",
       "  <tbody>\n",
       "    <tr>\n",
       "      <th>count</th>\n",
       "      <td>768.000000</td>\n",
       "      <td>768.000000</td>\n",
       "      <td>768.000000</td>\n",
       "      <td>768.000000</td>\n",
       "      <td>768.000000</td>\n",
       "      <td>768.000000</td>\n",
       "      <td>768.000000</td>\n",
       "      <td>768.000000</td>\n",
       "      <td>768.000000</td>\n",
       "    </tr>\n",
       "    <tr>\n",
       "      <th>mean</th>\n",
<<<<<<< HEAD
       "      <td>3.866601</td>\n",
       "      <td>119.966097</td>\n",
       "      <td>68.886078</td>\n",
       "      <td>20.309879</td>\n",
       "      <td>79.799479</td>\n",
       "      <td>31.711151</td>\n",
=======
       "      <td>3.885689</td>\n",
       "      <td>119.966097</td>\n",
       "      <td>68.895389</td>\n",
       "      <td>20.357580</td>\n",
       "      <td>79.799479</td>\n",
       "      <td>31.760002</td>\n",
>>>>>>> d2a9bbca404399701ca486d843b8888f0b470a96
       "      <td>0.471876</td>\n",
       "      <td>33.761336</td>\n",
       "      <td>0.348958</td>\n",
       "    </tr>\n",
       "    <tr>\n",
       "      <th>std</th>\n",
<<<<<<< HEAD
       "      <td>3.420480</td>\n",
       "      <td>32.028277</td>\n",
       "      <td>19.427448</td>\n",
       "      <td>15.743756</td>\n",
       "      <td>115.244002</td>\n",
       "      <td>8.483295</td>\n",
=======
       "      <td>3.384891</td>\n",
       "      <td>32.028277</td>\n",
       "      <td>19.393614</td>\n",
       "      <td>15.668404</td>\n",
       "      <td>115.244002</td>\n",
       "      <td>8.261584</td>\n",
>>>>>>> d2a9bbca404399701ca486d843b8888f0b470a96
       "      <td>0.331329</td>\n",
       "      <td>12.144139</td>\n",
       "      <td>0.476951</td>\n",
       "    </tr>\n",
       "    <tr>\n",
       "      <th>min</th>\n",
<<<<<<< HEAD
       "      <td>-5.412815</td>\n",
       "      <td>0.000000</td>\n",
       "      <td>-3.496455</td>\n",
       "      <td>-11.945520</td>\n",
       "      <td>0.000000</td>\n",
       "      <td>-16.288921</td>\n",
=======
       "      <td>0.000000</td>\n",
       "      <td>0.000000</td>\n",
       "      <td>0.000000</td>\n",
       "      <td>0.000000</td>\n",
       "      <td>0.000000</td>\n",
       "      <td>0.000000</td>\n",
>>>>>>> d2a9bbca404399701ca486d843b8888f0b470a96
       "      <td>0.078000</td>\n",
       "      <td>21.000000</td>\n",
       "      <td>0.000000</td>\n",
       "    </tr>\n",
       "    <tr>\n",
       "      <th>25%</th>\n",
       "      <td>1.000000</td>\n",
       "      <td>99.000000</td>\n",
       "      <td>62.000000</td>\n",
       "      <td>0.000000</td>\n",
       "      <td>0.000000</td>\n",
       "      <td>27.275000</td>\n",
       "      <td>0.243750</td>\n",
       "      <td>24.000000</td>\n",
       "      <td>0.000000</td>\n",
       "    </tr>\n",
       "    <tr>\n",
       "      <th>50%</th>\n",
       "      <td>3.000000</td>\n",
       "      <td>117.000000</td>\n",
       "      <td>72.000000</td>\n",
       "      <td>22.000000</td>\n",
       "      <td>30.500000</td>\n",
       "      <td>32.000000</td>\n",
       "      <td>0.372500</td>\n",
       "      <td>30.000000</td>\n",
       "      <td>0.000000</td>\n",
       "    </tr>\n",
       "    <tr>\n",
       "      <th>75%</th>\n",
       "      <td>6.000000</td>\n",
       "      <td>139.000000</td>\n",
       "      <td>80.000000</td>\n",
       "      <td>32.000000</td>\n",
       "      <td>127.250000</td>\n",
       "      <td>36.425000</td>\n",
       "      <td>0.626250</td>\n",
       "      <td>41.000000</td>\n",
       "      <td>1.000000</td>\n",
       "    </tr>\n",
       "    <tr>\n",
       "      <th>max</th>\n",
       "      <td>17.000000</td>\n",
       "      <td>199.000000</td>\n",
       "      <td>122.000000</td>\n",
       "      <td>99.000000</td>\n",
       "      <td>846.000000</td>\n",
       "      <td>67.100000</td>\n",
       "      <td>2.420000</td>\n",
       "      <td>81.000000</td>\n",
       "      <td>1.000000</td>\n",
       "    </tr>\n",
       "  </tbody>\n",
       "</table>\n",
       "</div>"
      ],
      "text/plain": [
       "       Pregnancies     Glucose  BloodPressure  SkinThickness     Insulin  \\\n",
       "count   768.000000  768.000000     768.000000     768.000000  768.000000   \n",
<<<<<<< HEAD
       "mean      3.866601  119.966097      68.886078      20.309879   79.799479   \n",
       "std       3.420480   32.028277      19.427448      15.743756  115.244002   \n",
       "min      -5.412815    0.000000      -3.496455     -11.945520    0.000000   \n",
=======
       "mean      3.885689  119.966097      68.895389      20.357580   79.799479   \n",
       "std       3.384891   32.028277      19.393614      15.668404  115.244002   \n",
       "min       0.000000    0.000000       0.000000       0.000000    0.000000   \n",
>>>>>>> d2a9bbca404399701ca486d843b8888f0b470a96
       "25%       1.000000   99.000000      62.000000       0.000000    0.000000   \n",
       "50%       3.000000  117.000000      72.000000      22.000000   30.500000   \n",
       "75%       6.000000  139.000000      80.000000      32.000000  127.250000   \n",
       "max      17.000000  199.000000     122.000000      99.000000  846.000000   \n",
       "\n",
       "              BMI  DiabetesPedigreeFunction         Age     Outcome  \n",
       "count  768.000000                768.000000  768.000000  768.000000  \n",
<<<<<<< HEAD
       "mean    31.711151                  0.471876   33.761336    0.348958  \n",
       "std      8.483295                  0.331329   12.144139    0.476951  \n",
       "min    -16.288921                  0.078000   21.000000    0.000000  \n",
=======
       "mean    31.760002                  0.471876   33.761336    0.348958  \n",
       "std      8.261584                  0.331329   12.144139    0.476951  \n",
       "min      0.000000                  0.078000   21.000000    0.000000  \n",
>>>>>>> d2a9bbca404399701ca486d843b8888f0b470a96
       "25%     27.275000                  0.243750   24.000000    0.000000  \n",
       "50%     32.000000                  0.372500   30.000000    0.000000  \n",
       "75%     36.425000                  0.626250   41.000000    1.000000  \n",
       "max     67.100000                  2.420000   81.000000    1.000000  "
      ]
     },
     "execution_count": 6,
     "metadata": {},
     "output_type": "execute_result"
    }
   ],
   "source": [
    "df.describe()"
   ]
  },
  {
   "cell_type": "code",
   "execution_count": 7,
   "metadata": {},
<<<<<<< HEAD
   "outputs": [],
   "source": [
    "for feature in features:\n",
    "    df.loc[df[feature] < 0, feature] = 0"
   ]
  },
  {
   "cell_type": "code",
   "execution_count": 8,
   "metadata": {},
=======
>>>>>>> d2a9bbca404399701ca486d843b8888f0b470a96
   "outputs": [
    {
     "data": {
      "text/html": [
       "<div>\n",
       "<style scoped>\n",
       "    .dataframe tbody tr th:only-of-type {\n",
       "        vertical-align: middle;\n",
       "    }\n",
       "\n",
       "    .dataframe tbody tr th {\n",
       "        vertical-align: top;\n",
       "    }\n",
       "\n",
       "    .dataframe thead th {\n",
       "        text-align: right;\n",
       "    }\n",
       "</style>\n",
       "<table border=\"1\" class=\"dataframe\">\n",
       "  <thead>\n",
       "    <tr style=\"text-align: right;\">\n",
       "      <th></th>\n",
       "      <th>Pregnancies</th>\n",
       "      <th>Glucose</th>\n",
       "      <th>BloodPressure</th>\n",
       "      <th>SkinThickness</th>\n",
       "      <th>Insulin</th>\n",
       "      <th>BMI</th>\n",
       "      <th>DiabetesPedigreeFunction</th>\n",
       "      <th>Age</th>\n",
       "      <th>Outcome</th>\n",
       "    </tr>\n",
       "  </thead>\n",
       "  <tbody>\n",
       "    <tr>\n",
       "      <th>count</th>\n",
       "      <td>768.000000</td>\n",
       "      <td>768.000000</td>\n",
       "      <td>768.000000</td>\n",
       "      <td>768.000000</td>\n",
       "      <td>768.000000</td>\n",
       "      <td>768.000000</td>\n",
       "      <td>768.000000</td>\n",
       "      <td>768.000000</td>\n",
       "      <td>768.000000</td>\n",
       "    </tr>\n",
       "    <tr>\n",
       "      <th>mean</th>\n",
       "      <td>3.885689</td>\n",
       "      <td>119.966097</td>\n",
       "      <td>68.895389</td>\n",
       "      <td>20.357580</td>\n",
       "      <td>79.799479</td>\n",
       "      <td>31.760002</td>\n",
       "      <td>0.471876</td>\n",
       "      <td>33.761336</td>\n",
       "      <td>0.348958</td>\n",
       "    </tr>\n",
       "    <tr>\n",
       "      <th>std</th>\n",
       "      <td>3.384891</td>\n",
       "      <td>32.028277</td>\n",
       "      <td>19.393614</td>\n",
       "      <td>15.668404</td>\n",
       "      <td>115.244002</td>\n",
       "      <td>8.261584</td>\n",
       "      <td>0.331329</td>\n",
       "      <td>12.144139</td>\n",
       "      <td>0.476951</td>\n",
       "    </tr>\n",
       "    <tr>\n",
       "      <th>min</th>\n",
       "      <td>0.000000</td>\n",
       "      <td>0.000000</td>\n",
       "      <td>0.000000</td>\n",
       "      <td>0.000000</td>\n",
       "      <td>0.000000</td>\n",
       "      <td>0.000000</td>\n",
       "      <td>0.078000</td>\n",
       "      <td>21.000000</td>\n",
       "      <td>0.000000</td>\n",
       "    </tr>\n",
       "    <tr>\n",
       "      <th>25%</th>\n",
       "      <td>1.000000</td>\n",
       "      <td>99.000000</td>\n",
       "      <td>62.000000</td>\n",
       "      <td>0.000000</td>\n",
       "      <td>0.000000</td>\n",
       "      <td>27.275000</td>\n",
       "      <td>0.243750</td>\n",
       "      <td>24.000000</td>\n",
       "      <td>0.000000</td>\n",
       "    </tr>\n",
       "    <tr>\n",
       "      <th>50%</th>\n",
       "      <td>3.000000</td>\n",
       "      <td>117.000000</td>\n",
       "      <td>72.000000</td>\n",
       "      <td>22.000000</td>\n",
       "      <td>30.500000</td>\n",
       "      <td>32.000000</td>\n",
       "      <td>0.372500</td>\n",
       "      <td>30.000000</td>\n",
       "      <td>0.000000</td>\n",
       "    </tr>\n",
       "    <tr>\n",
       "      <th>75%</th>\n",
       "      <td>6.000000</td>\n",
       "      <td>139.000000</td>\n",
       "      <td>80.000000</td>\n",
       "      <td>32.000000</td>\n",
       "      <td>127.250000</td>\n",
       "      <td>36.425000</td>\n",
       "      <td>0.626250</td>\n",
       "      <td>41.000000</td>\n",
       "      <td>1.000000</td>\n",
       "    </tr>\n",
       "    <tr>\n",
       "      <th>max</th>\n",
       "      <td>17.000000</td>\n",
       "      <td>199.000000</td>\n",
       "      <td>122.000000</td>\n",
       "      <td>99.000000</td>\n",
       "      <td>846.000000</td>\n",
       "      <td>67.100000</td>\n",
       "      <td>2.420000</td>\n",
       "      <td>81.000000</td>\n",
       "      <td>1.000000</td>\n",
       "    </tr>\n",
       "  </tbody>\n",
       "</table>\n",
       "</div>"
      ],
      "text/plain": [
       "       Pregnancies     Glucose  BloodPressure  SkinThickness     Insulin  \\\n",
       "count   768.000000  768.000000     768.000000     768.000000  768.000000   \n",
       "mean      3.885689  119.966097      68.895389      20.357580   79.799479   \n",
       "std       3.384891   32.028277      19.393614      15.668404  115.244002   \n",
       "min       0.000000    0.000000       0.000000       0.000000    0.000000   \n",
       "25%       1.000000   99.000000      62.000000       0.000000    0.000000   \n",
       "50%       3.000000  117.000000      72.000000      22.000000   30.500000   \n",
       "75%       6.000000  139.000000      80.000000      32.000000  127.250000   \n",
       "max      17.000000  199.000000     122.000000      99.000000  846.000000   \n",
       "\n",
       "              BMI  DiabetesPedigreeFunction         Age     Outcome  \n",
       "count  768.000000                768.000000  768.000000  768.000000  \n",
       "mean    31.760002                  0.471876   33.761336    0.348958  \n",
       "std      8.261584                  0.331329   12.144139    0.476951  \n",
       "min      0.000000                  0.078000   21.000000    0.000000  \n",
       "25%     27.275000                  0.243750   24.000000    0.000000  \n",
       "50%     32.000000                  0.372500   30.000000    0.000000  \n",
       "75%     36.425000                  0.626250   41.000000    1.000000  \n",
       "max     67.100000                  2.420000   81.000000    1.000000  "
      ]
     },
<<<<<<< HEAD
     "execution_count": 8,
=======
     "execution_count": 9,
>>>>>>> d2a9bbca404399701ca486d843b8888f0b470a96
     "metadata": {},
     "output_type": "execute_result"
    },
    {
     "data": {
      "image/png": "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\n",
      "text/plain": [
       "<Figure size 432x288 with 1 Axes>"
      ]
     },
     "metadata": {
      "needs_background": "light"
     },
     "output_type": "display_data"
    }
   ],
   "source": [
    "df.hist(column='DiabetesPedigreeFunction')\n",
    "#df.insert(8, \"customeFeature\", df.Age*df.DiabetesPedigreeFunction, True)\n",
    "features = ['Pregnancies','Glucose', 'BloodPressure','SkinThickness', 'Insulin', 'BMI', 'DiabetesPedigreeFunction', 'Age']\n",
    "df.describe()"
   ]
  },
  {
   "cell_type": "code",
<<<<<<< HEAD
   "execution_count": 9,
=======
   "execution_count": 10,
>>>>>>> d2a9bbca404399701ca486d843b8888f0b470a96
   "metadata": {},
   "outputs": [],
   "source": [
    "df.loc[df.Insulin >250, 'Insulin'] = 250\n",
    "df.loc[df.Pregnancies > 3, 'Pregnancies'] = 3\n",
    "#df.loc[df.SkinThickness > 60, 'SkinThickness'] = 60\n",
    "#df.loc[df.BloodPressure == 0, 'BloodPressure'] = 28\n",
    "\n",
    "\n",
    "\n"
   ]
  },
  {
   "cell_type": "code",
   "execution_count": 11,
   "metadata": {},
   "outputs": [
    {
     "data": {
      "text/plain": [
       "array([[<matplotlib.axes._subplots.AxesSubplot object at 0x118b29550>]],\n",
       "      dtype=object)"
      ]
     },
     "execution_count": 11,
     "metadata": {},
     "output_type": "execute_result"
    },
    {
     "data": {
      "image/png": "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\n",
      "text/plain": [
       "<Figure size 432x288 with 1 Axes>"
      ]
     },
     "metadata": {
      "needs_background": "light"
     },
     "output_type": "display_data"
    }
   ],
   "source": [
    "df.hist(column='BloodPressure')"
   ]
  },
  {
   "cell_type": "code",
   "execution_count": 10,
   "metadata": {},
   "outputs": [
    {
     "data": {
      "text/plain": [
       "<matplotlib.axes._subplots.AxesSubplot at 0x10e65e208>"
      ]
     },
     "execution_count": 10,
     "metadata": {},
     "output_type": "execute_result"
    },
    {
     "data": {
      "image/png": "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\n",
      "text/plain": [
       "<Figure size 432x288 with 1 Axes>"
      ]
     },
     "metadata": {
      "needs_background": "light"
     },
     "output_type": "display_data"
    }
   ],
   "source": [
    "df.isnull().sum()\n",
    "df.plot(x='SkinThickness', y='BMI', style='.')"
   ]
  },
  {
   "cell_type": "code",
   "execution_count": 11,
   "metadata": {},
   "outputs": [],
   "source": [
    "zero_insulin_data = df[ df.Insulin == 0 ]\n",
    "non_zero_insulin_data = df[ df.Insulin != 0]\n",
    "\n",
    "train_X = non_zero_insulin_data['Glucose'].values.reshape(-1,1)\n",
    "train_y = non_zero_insulin_data['Insulin'].values.reshape(-1,1)\n",
    "val_X = zero_insulin_data['Glucose'].values.reshape(-1,1)\n",
    "\n",
    "model = LinearRegression()\n",
    "model.fit(train_X, train_y)\n",
    "predicted_y = model.predict(val_X)\n",
    "\n",
    "j = 0\n",
    "for i in df.index:\n",
    "    if df.at[i, 'Insulin'] == 0:\n",
    "        df.at[i, 'Insulin'] = predicted_y[j][0]\n",
    "        j+=1\n"
   ]
  },
  {
   "cell_type": "code",
   "execution_count": 12,
   "metadata": {},
   "outputs": [],
   "source": [
    "zero_SkinThickness_data = df[ df.SkinThickness == 0 ]\n",
    "non_zero_SkinThickness_data = df[ df.SkinThickness != 0]\n",
    "\n",
    "train_X = non_zero_SkinThickness_data['BMI'].values.reshape(-1,1)\n",
    "train_y = non_zero_SkinThickness_data['SkinThickness'].values.reshape(-1,1)\n",
    "val_X = zero_SkinThickness_data['BMI'].values.reshape(-1,1)\n",
    "\n",
    "model = LinearRegression()\n",
    "model.fit(train_X, train_y)\n",
    "predicted_y = model.predict(val_X)\n",
    "\n",
    "j = 0\n",
    "for i in df.index:\n",
    "    if df.at[i, 'SkinThickness'] == 0:\n",
    "        df.at[i, 'SkinThickness'] = predicted_y[j][0]\n",
    "        j+=1\n",
    "\n"
   ]
  },
  {
   "cell_type": "code",
   "execution_count": 18,
   "metadata": {},
   "outputs": [
    {
     "data": {
      "text/plain": [
       "<matplotlib.axes._subplots.AxesSubplot at 0x10e7f36d8>"
      ]
     },
     "execution_count": 18,
     "metadata": {},
     "output_type": "execute_result"
    },
    {
     "data": {
      "image/png": "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\n",
      "text/plain": [
       "<Figure size 432x288 with 1 Axes>"
      ]
     },
     "metadata": {
      "needs_background": "light"
     },
     "output_type": "display_data"
    }
   ],
   "source": [
    "df.plot(x='SkinThickness', y='BMI', style='.')"
   ]
  },
  {
   "cell_type": "code",
   "execution_count": 14,
   "metadata": {},
   "outputs": [
    {
     "data": {
      "text/plain": [
       "<matplotlib.axes._subplots.AxesSubplot at 0x118aeae10>"
      ]
     },
     "execution_count": 12,
     "metadata": {},
     "output_type": "execute_result"
    },
    {
     "data": {
      "image/png": "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\n",
      "text/plain": [
       "<Figure size 432x288 with 1 Axes>"
      ]
     },
     "metadata": {
      "needs_background": "light"
     },
     "output_type": "display_data"
    }
   ],
   "source": [
    "df.isnull().sum()\n",
    "df.plot(x='Age', y='Outcome', style='.')"
   ]
  },
  {
   "cell_type": "code",
   "execution_count": 13,
   "metadata": {},
   "outputs": [],
   "source": [
    "# zero_insulin_data = df[ df.Insulin == 0 ]\n",
    "# non_zero_insulin_data = df[ df.Insulin != 0]\n",
    "\n",
    "# train_X = non_zero_insulin_data['Glucose'].values.reshape(-1,1)\n",
    "# train_y = non_zero_insulin_data['Insulin'].values.reshape(-1,1)\n",
    "# val_X = zero_insulin_data['Glucose'].values.reshape(-1,1)\n",
    "\n",
    "# model = LinearRegression()\n",
    "# model.fit(train_X, train_y)\n",
    "# predicted_y = model.predict(val_X)\n",
    "\n",
    "# j = 0\n",
    "# for i in df.index:\n",
    "#     if df.at[i, 'Insulin'] == 0:\n",
    "#         df.at[i, 'Insulin'] = predicted_y[j][0]\n",
    "#         j+=1\n"
   ]
  },
  {
   "cell_type": "code",
   "execution_count": 14,
   "metadata": {},
   "outputs": [],
   "source": [
    "zero_SkinThickness_data = df[ df.SkinThickness == 0 ]\n",
    "non_zero_SkinThickness_data = df[ df.SkinThickness != 0]\n",
    "\n",
    "train_X = non_zero_SkinThickness_data['BMI'].values.reshape(-1,1)\n",
    "train_y = non_zero_SkinThickness_data['SkinThickness'].values.reshape(-1,1)\n",
    "val_X = zero_SkinThickness_data['BMI'].values.reshape(-1,1)\n",
    "\n",
    "model = LinearRegression()\n",
    "model.fit(train_X, train_y)\n",
    "predicted_y = model.predict(val_X)\n",
    "\n",
    "j = 0\n",
    "for i in df.index:\n",
    "    if df.at[i, 'SkinThickness'] == 0:\n",
    "        df.at[i, 'SkinThickness'] = predicted_y[j][0]\n",
    "        j+=1\n",
    "\n"
   ]
  },
  {
   "cell_type": "code",
   "execution_count": null,
   "metadata": {},
   "outputs": [],
   "source": []
  },
  {
   "cell_type": "code",
   "execution_count": 15,
   "metadata": {},
   "outputs": [
    {
     "data": {
      "text/html": [
       "<div>\n",
       "<style scoped>\n",
       "    .dataframe tbody tr th:only-of-type {\n",
       "        vertical-align: middle;\n",
       "    }\n",
       "\n",
       "    .dataframe tbody tr th {\n",
       "        vertical-align: top;\n",
       "    }\n",
       "\n",
       "    .dataframe thead th {\n",
       "        text-align: right;\n",
       "    }\n",
       "</style>\n",
       "<table border=\"1\" class=\"dataframe\">\n",
       "  <thead>\n",
       "    <tr style=\"text-align: right;\">\n",
       "      <th></th>\n",
       "      <th>Pregnancies</th>\n",
       "      <th>Glucose</th>\n",
       "      <th>BloodPressure</th>\n",
       "      <th>SkinThickness</th>\n",
       "      <th>Insulin</th>\n",
       "      <th>BMI</th>\n",
       "      <th>DiabetesPedigreeFunction</th>\n",
       "      <th>Age</th>\n",
       "      <th>Outcome</th>\n",
       "    </tr>\n",
       "  </thead>\n",
       "  <tbody>\n",
       "    <tr>\n",
       "      <th>count</th>\n",
       "      <td>7.680000e+02</td>\n",
       "      <td>7.680000e+02</td>\n",
       "      <td>7.680000e+02</td>\n",
       "      <td>7.680000e+02</td>\n",
       "      <td>7.680000e+02</td>\n",
       "      <td>7.680000e+02</td>\n",
       "      <td>7.680000e+02</td>\n",
       "      <td>7.680000e+02</td>\n",
       "      <td>768.000000</td>\n",
       "    </tr>\n",
       "    <tr>\n",
       "      <th>mean</th>\n",
<<<<<<< HEAD
       "      <td>7.401487e-17</td>\n",
       "      <td>-8.789266e-17</td>\n",
       "      <td>-6.476301e-16</td>\n",
       "      <td>-3.122502e-16</td>\n",
       "      <td>-5.551115e-17</td>\n",
       "      <td>-5.088522e-17</td>\n",
       "      <td>2.498002e-16</td>\n",
       "      <td>1.919761e-16</td>\n",
=======
       "      <td>3.411623e-17</td>\n",
       "      <td>-9.251859e-17</td>\n",
       "      <td>-6.568820e-16</td>\n",
       "      <td>-2.960595e-16</td>\n",
       "      <td>3.839521e-16</td>\n",
       "      <td>-4.278985e-17</td>\n",
       "      <td>2.544261e-16</td>\n",
       "      <td>1.942890e-16</td>\n",
>>>>>>> d2a9bbca404399701ca486d843b8888f0b470a96
       "      <td>0.348958</td>\n",
       "    </tr>\n",
       "    <tr>\n",
       "      <th>std</th>\n",
       "      <td>1.000000e+00</td>\n",
       "      <td>1.000000e+00</td>\n",
       "      <td>1.000000e+00</td>\n",
       "      <td>1.000000e+00</td>\n",
       "      <td>1.000000e+00</td>\n",
       "      <td>1.000000e+00</td>\n",
       "      <td>1.000000e+00</td>\n",
       "      <td>1.000000e+00</td>\n",
       "      <td>0.476951</td>\n",
       "    </tr>\n",
       "    <tr>\n",
       "      <th>min</th>\n",
<<<<<<< HEAD
       "      <td>-1.147951e+00</td>\n",
=======
       "      <td>-1.856823e+00</td>\n",
>>>>>>> d2a9bbca404399701ca486d843b8888f0b470a96
       "      <td>-3.745631e+00</td>\n",
       "      <td>-3.552478e+00</td>\n",
       "      <td>-2.562805e+00</td>\n",
       "      <td>-2.791962e+00</td>\n",
       "      <td>-3.844300e+00</td>\n",
       "      <td>-1.188778e+00</td>\n",
       "      <td>-1.050823e+00</td>\n",
       "      <td>0.000000</td>\n",
       "    </tr>\n",
       "    <tr>\n",
       "      <th>25%</th>\n",
<<<<<<< HEAD
       "      <td>-8.525205e-01</td>\n",
=======
       "      <td>-9.767729e-01</td>\n",
>>>>>>> d2a9bbca404399701ca486d843b8888f0b470a96
       "      <td>-6.546121e-01</td>\n",
       "      <td>-3.555495e-01</td>\n",
       "      <td>-6.846791e-01</td>\n",
       "      <td>-6.815302e-01</td>\n",
       "      <td>-5.428744e-01</td>\n",
       "      <td>-6.885198e-01</td>\n",
       "      <td>-8.037899e-01</td>\n",
       "      <td>0.000000</td>\n",
       "    </tr>\n",
       "    <tr>\n",
       "      <th>50%</th>\n",
<<<<<<< HEAD
       "      <td>-2.616596e-01</td>\n",
=======
       "      <td>7.833278e-01</td>\n",
>>>>>>> d2a9bbca404399701ca486d843b8888f0b470a96
       "      <td>-9.260871e-02</td>\n",
       "      <td>1.600842e-01</td>\n",
       "      <td>-4.518819e-02</td>\n",
       "      <td>-1.387192e-01</td>\n",
       "      <td>2.904983e-02</td>\n",
       "      <td>-2.999328e-01</td>\n",
       "      <td>-3.097244e-01</td>\n",
       "      <td>0.000000</td>\n",
       "    </tr>\n",
       "    <tr>\n",
       "      <th>75%</th>\n",
<<<<<<< HEAD
       "      <td>6.246318e-01</td>\n",
=======
       "      <td>7.833278e-01</td>\n",
>>>>>>> d2a9bbca404399701ca486d843b8888f0b470a96
       "      <td>5.942843e-01</td>\n",
       "      <td>5.725911e-01</td>\n",
       "      <td>5.862334e-01</td>\n",
       "      <td>6.121947e-01</td>\n",
       "      <td>5.646614e-01</td>\n",
       "      <td>4.659233e-01</td>\n",
       "      <td>5.960624e-01</td>\n",
       "      <td>1.000000</td>\n",
       "    </tr>\n",
       "    <tr>\n",
       "      <th>max</th>\n",
<<<<<<< HEAD
       "      <td>3.874367e+00</td>\n",
=======
       "      <td>7.833278e-01</td>\n",
>>>>>>> d2a9bbca404399701ca486d843b8888f0b470a96
       "      <td>2.467629e+00</td>\n",
       "      <td>2.738252e+00</td>\n",
       "      <td>7.224122e+00</td>\n",
       "      <td>1.965304e+00</td>\n",
       "      <td>4.277630e+00</td>\n",
       "      <td>5.879733e+00</td>\n",
       "      <td>3.889832e+00</td>\n",
       "      <td>1.000000</td>\n",
       "    </tr>\n",
       "  </tbody>\n",
       "</table>\n",
       "</div>"
      ],
      "text/plain": [
       "        Pregnancies       Glucose  BloodPressure  SkinThickness       Insulin  \\\n",
       "count  7.680000e+02  7.680000e+02   7.680000e+02   7.680000e+02  7.680000e+02   \n",
<<<<<<< HEAD
       "mean   7.401487e-17 -8.789266e-17  -6.476301e-16  -3.122502e-16 -5.551115e-17   \n",
       "std    1.000000e+00  1.000000e+00   1.000000e+00   1.000000e+00  1.000000e+00   \n",
       "min   -1.147951e+00 -3.745631e+00  -3.552478e+00  -2.562805e+00 -2.791962e+00   \n",
       "25%   -8.525205e-01 -6.546121e-01  -3.555495e-01  -6.846791e-01 -6.815302e-01   \n",
       "50%   -2.616596e-01 -9.260871e-02   1.600842e-01  -4.518819e-02 -1.387192e-01   \n",
       "75%    6.246318e-01  5.942843e-01   5.725911e-01   5.862334e-01  6.121947e-01   \n",
       "max    3.874367e+00  2.467629e+00   2.738252e+00   7.224122e+00  1.965304e+00   \n",
       "\n",
       "                BMI  DiabetesPedigreeFunction           Age     Outcome  \n",
       "count  7.680000e+02              7.680000e+02  7.680000e+02  768.000000  \n",
       "mean  -5.088522e-17              2.498002e-16  1.919761e-16    0.348958  \n",
=======
       "mean   3.411623e-17 -9.251859e-17  -6.568820e-16  -2.960595e-16  3.839521e-16   \n",
       "std    1.000000e+00  1.000000e+00   1.000000e+00   1.000000e+00  1.000000e+00   \n",
       "min   -1.856823e+00 -3.745631e+00  -3.552478e+00  -2.562805e+00 -2.791962e+00   \n",
       "25%   -9.767729e-01 -6.546121e-01  -3.555495e-01  -6.846791e-01 -6.815302e-01   \n",
       "50%    7.833278e-01 -9.260871e-02   1.600842e-01  -4.518819e-02 -1.387192e-01   \n",
       "75%    7.833278e-01  5.942843e-01   5.725911e-01   5.862334e-01  6.121947e-01   \n",
       "max    7.833278e-01  2.467629e+00   2.738252e+00   7.224122e+00  1.965304e+00   \n",
       "\n",
       "                BMI  DiabetesPedigreeFunction           Age     Outcome  \n",
       "count  7.680000e+02              7.680000e+02  7.680000e+02  768.000000  \n",
       "mean  -4.278985e-17              2.544261e-16  1.942890e-16    0.348958  \n",
>>>>>>> d2a9bbca404399701ca486d843b8888f0b470a96
       "std    1.000000e+00              1.000000e+00  1.000000e+00    0.476951  \n",
       "min   -3.844300e+00             -1.188778e+00 -1.050823e+00    0.000000  \n",
       "25%   -5.428744e-01             -6.885198e-01 -8.037899e-01    0.000000  \n",
       "50%    2.904983e-02             -2.999328e-01 -3.097244e-01    0.000000  \n",
       "75%    5.646614e-01              4.659233e-01  5.960624e-01    1.000000  \n",
       "max    4.277630e+00              5.879733e+00  3.889832e+00    1.000000  "
      ]
     },
<<<<<<< HEAD
     "execution_count": 14,
=======
     "execution_count": 15,
>>>>>>> d2a9bbca404399701ca486d843b8888f0b470a96
     "metadata": {},
     "output_type": "execute_result"
    }
   ],
   "source": [
    "for feature in features:\n",
    "    df[feature] = (df[feature] - df[feature].mean())/(df[feature].std())\n",
    "df.describe()"
   ]
  },
  {
   "cell_type": "code",
<<<<<<< HEAD
   "execution_count": 15,
=======
   "execution_count": 16,
   "metadata": {},
   "outputs": [
    {
     "data": {
      "text/plain": [
       "<matplotlib.axes._subplots.AxesSubplot at 0x118b29f98>"
      ]
     },
     "execution_count": 16,
     "metadata": {},
     "output_type": "execute_result"
    },
    {
     "data": {
      "image/png": "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\n",
      "text/plain": [
       "<Figure size 432x288 with 1 Axes>"
      ]
     },
     "metadata": {
      "needs_background": "light"
     },
     "output_type": "display_data"
    }
   ],
   "source": [
    "df.plot(x='SkinThickness', y='BMI', style='.')"
   ]
  },
  {
   "cell_type": "code",
   "execution_count": 17,
>>>>>>> d2a9bbca404399701ca486d843b8888f0b470a96
   "metadata": {},
   "outputs": [],
   "source": [
    "accuracy = []\n",
    "\n",
    "for i in range(100):\n",
    "    df = df.sample(frac=1)\n",
<<<<<<< HEAD
    "    X = df[df.columns[0:8]]\n",
=======
    "    X = df[df.columns[1:8]]\n",
>>>>>>> d2a9bbca404399701ca486d843b8888f0b470a96
    "    y = df[df.columns[8]] \n",
    "    \n",
    "    trainX, valX, trainY, valY = train_test_split(X, y, test_size = 0.20)\n",
    "    lr = LogisticRegression(max_iter=2000, solver='lbfgs')\n",
    "    lr.fit(trainX, trainY)\n",
    "    accuracy.append(lr.score(valX, valY)*100)"
   ]
  },
  {
   "cell_type": "code",
<<<<<<< HEAD
   "execution_count": 16,
=======
   "execution_count": 18,
>>>>>>> d2a9bbca404399701ca486d843b8888f0b470a96
   "metadata": {},
   "outputs": [],
   "source": [
    "average_accuracy = sum(accuracy)/len(accuracy)"
   ]
  },
  {
   "cell_type": "code",
<<<<<<< HEAD
   "execution_count": 17,
=======
   "execution_count": 19,
>>>>>>> d2a9bbca404399701ca486d843b8888f0b470a96
   "metadata": {},
   "outputs": [
    {
     "name": "stdout",
     "output_type": "stream",
     "text": [
<<<<<<< HEAD
      "76.56493506493503 83.11688311688312 69.48051948051948\n"
=======
      "75.71428571428572 84.4155844155844 67.53246753246754\n"
>>>>>>> d2a9bbca404399701ca486d843b8888f0b470a96
     ]
    }
   ],
   "source": [
    "print(average_accuracy, max(accuracy), min(accuracy))"
   ]
  },
  {
   "cell_type": "code",
   "execution_count": null,
   "metadata": {},
   "outputs": [],
   "source": []
  }
 ],
 "metadata": {
  "kernelspec": {
   "display_name": "Python 3",
   "language": "python",
   "name": "python3"
  },
  "language_info": {
   "codemirror_mode": {
    "name": "ipython",
    "version": 3
   },
   "file_extension": ".py",
   "mimetype": "text/x-python",
   "name": "python",
   "nbconvert_exporter": "python",
   "pygments_lexer": "ipython3",
   "version": "3.6.8"
  }
 },
 "nbformat": 4,
 "nbformat_minor": 2
}
