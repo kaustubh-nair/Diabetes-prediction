{
 "cells": [
  {
   "cell_type": "markdown",
   "metadata": {},
   "source": [
    "# ML Assignment 1\n",
    "A simple machine learning model to accurately classify whether or not the patients in the dataset have diabetes or not."
   ]
  },
  {
   "cell_type": "code",
   "execution_count": null,
   "metadata": {},
   "outputs": [],
   "source": [
    "import pandas as pd\n",
    "import numpy as np\n",
    "import matplotlib.pyplot as pyplot\n",
    "import seaborn as sns\n",
    "%matplotlib inline\n",
    "from pandas.plotting import scatter_matrix\n",
    "from sklearn.linear_model import LogisticRegression, LinearRegression\n",
    "from sklearn.model_selection import train_test_split "
   ]
  },
  {
   "cell_type": "markdown",
   "metadata": {},
   "source": [
    "Reading the CSV file and making a dataframe from it:"
   ]
  },
  {
   "cell_type": "code",
   "execution_count": null,
   "metadata": {},
   "outputs": [],
   "source": [
    "df = pd.read_csv(\"Pima_Indian_diabetes.csv\")"
   ]
  },
  {
   "cell_type": "code",
   "execution_count": null,
   "metadata": {},
   "outputs": [],
   "source": [
    "df.describe()"
   ]
  },
  {
   "cell_type": "code",
   "execution_count": null,
   "metadata": {},
   "outputs": [],
   "source": [
    "features = ['Pregnancies','Glucose', 'BloodPressure','SkinThickness', 'Insulin', 'BMI', 'DiabetesPedigreeFunction', 'Age']"
   ]
  },
  {
   "cell_type": "markdown",
   "metadata": {},
   "source": [
    "Filling the missing values by a random number picked between mean +/- std-dev"
   ]
  },
  {
   "cell_type": "code",
   "execution_count": null,
   "metadata": {},
   "outputs": [],
   "source": [
    "for feature in features:\n",
    "    df[feature].fillna(value=np.random.normal(df[feature].mean(), df[feature].std()), inplace=True)"
   ]
  },
  {
   "cell_type": "code",
   "execution_count": null,
   "metadata": {},
   "outputs": [],
   "source": [
    "df.describe()"
   ]
  },
  {
   "cell_type": "markdown",
   "metadata": {},
   "source": [
    "Filling in the negative values with zero"
   ]
  },
  {
   "cell_type": "code",
   "execution_count": null,
   "metadata": {},
   "outputs": [],
   "source": [
    "for feature in features:\n",
    "    df.loc[df[feature] < 0, feature] = 0"
   ]
  },
  {
   "cell_type": "code",
   "execution_count": null,
   "metadata": {},
   "outputs": [],
   "source": [
    "df.describe()"
   ]
  },
  {
   "cell_type": "markdown",
   "metadata": {},
   "source": [
    "Setting the upper bound of Insulin as 250"
   ]
  },
  {
   "cell_type": "code",
   "execution_count": null,
   "metadata": {},
   "outputs": [],
   "source": [
    "df.loc[df.Insulin >250, 'Insulin'] = 250"
   ]
  },
  {
   "cell_type": "code",
   "execution_count": null,
   "metadata": {},
   "outputs": [],
   "source": [
    "plot = scatter_matrix(df, alpha=0.2, figsize=(15, 15))"
   ]
  },
  {
   "cell_type": "markdown",
   "metadata": {},
   "source": [
    "Following two observation can be made from data analysis"
   ]
  },
  {
   "cell_type": "code",
   "execution_count": null,
   "metadata": {},
   "outputs": [],
   "source": [
    "df.plot(x='SkinThickness', y='BMI', style='.')"
   ]
  },
  {
   "cell_type": "code",
   "execution_count": null,
   "metadata": {},
   "outputs": [],
   "source": [
    "zero_SkinThickness_data = df[ df.SkinThickness == 0 ]\n",
    "non_zero_SkinThickness_data = df[ df.SkinThickness != 0]\n",
    "\n",
    "train_X = non_zero_SkinThickness_data['BMI'].values.reshape(-1,1)\n",
    "train_y = non_zero_SkinThickness_data['SkinThickness'].values.reshape(-1,1)\n",
    "val_X = zero_SkinThickness_data['BMI'].values.reshape(-1,1)\n",
    "\n",
    "model = LinearRegression()\n",
    "model.fit(train_X, train_y)\n",
    "predicted_y = model.predict(val_X)\n",
    "\n",
    "j = 0\n",
    "for i in df.index:\n",
    "    if df.at[i, 'SkinThickness'] == 0:\n",
    "        df.at[i, 'SkinThickness'] = predicted_y[j][0]\n",
    "        j+=1\n",
    "\n"
   ]
  },
  {
   "cell_type": "code",
   "execution_count": null,
   "metadata": {},
   "outputs": [],
   "source": [
    "df.plot(x='SkinThickness', y='BMI', style='.')"
   ]
  },
  {
   "cell_type": "code",
   "execution_count": null,
   "metadata": {},
   "outputs": [],
   "source": [
    "df.plot(x='Insulin', y='Glucose', style='.')"
   ]
  },
  {
   "cell_type": "code",
   "execution_count": null,
   "metadata": {},
   "outputs": [],
   "source": [
    "zero_insulin_data = df[ df.Insulin == 0 ]\n",
    "non_zero_insulin_data = df[ df.Insulin != 0]\n",
    "\n",
    "train_X = non_zero_insulin_data['Glucose'].values.reshape(-1,1)\n",
    "train_y = non_zero_insulin_data['Insulin'].values.reshape(-1,1)\n",
    "val_X = zero_insulin_data['Glucose'].values.reshape(-1,1)\n",
    "\n",
    "model = LinearRegression()\n",
    "model.fit(train_X, train_y)\n",
    "predicted_y = model.predict(val_X)\n",
    "\n",
    "j = 0\n",
    "for i in df.index:\n",
    "    if df.at[i, 'Insulin'] == 0:\n",
    "        df.at[i, 'Insulin'] = predicted_y[j][0]\n",
    "        j+=1\n"
   ]
  },
  {
   "cell_type": "code",
   "execution_count": null,
   "metadata": {},
   "outputs": [],
   "source": [
    "df.plot(x='Glucose', y='Insulin', style='.')"
   ]
  },
  {
   "cell_type": "code",
   "execution_count": null,
   "metadata": {},
   "outputs": [],
   "source": [
    "for feature in features:\n",
    "    df[feature] = (df[feature] - df[feature].mean())/(df[feature].std())\n",
    "df.describe()"
   ]
  },
  {
   "cell_type": "code",
   "execution_count": null,
   "metadata": {},
   "outputs": [],
   "source": [
    "accuracy = []\n",
    "\n",
    "for i in range(100):\n",
    "    df = df.sample(frac=1)\n",
    "    print(df)\n",
    "    X = df[df.columns[0:8]]\n",
    "    y = df[df.columns[8]] \n",
    "    \n",
    "    trainX, valX, trainY, valY = train_test_split(X, y, test_size = 0.20)\n",
    "    lr = LogisticRegression(max_iter=2000, solver='lbfgs')\n",
    "    lr.fit(trainX, trainY)\n",
    "    accuracy.append(lr.score(valX, valY)*100)"
   ]
  },
  {
   "cell_type": "code",
   "execution_count": null,
   "metadata": {},
   "outputs": [],
   "source": [
    "average_accuracy = sum(accuracy)/len(accuracy)\n",
    "print(average_accuracy, max(accuracy), min(accuracy))"
   ]
  }
 ],
 "metadata": {
  "kernelspec": {
   "display_name": "Python 3",
   "language": "python",
   "name": "python3"
  },
  "language_info": {
   "codemirror_mode": {
    "name": "ipython",
    "version": 3
   },
   "file_extension": ".py",
   "mimetype": "text/x-python",
   "name": "python",
   "nbconvert_exporter": "python",
   "pygments_lexer": "ipython3",
   "version": "3.6.8"
  }
 },
 "nbformat": 4,
 "nbformat_minor": 2
}
