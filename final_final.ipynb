{
 "cells": [
  {
   "cell_type": "markdown",
   "metadata": {},
   "source": [
    "## Assignment 1 - Diabetes Prediction\n",
    "A machine learning model to accurately classify whether or not the patients in the dataset have diabetes or not.<br><br>\n",
    "**Team members:**\n",
    "* Ayush Yadav ( IMT2017009 )\n",
    "* Kaustubh Nair ( IMT2017025 )\n",
    "* Sarthak Khoche ( IMT2017038 )\n",
    "\n",
    "### Overview:\n",
    "1. [**Missing Data Handling**](#missing_data)\n",
    "2. [**Data Preprocessing**](#preprocessing)\n",
    "3. [**Approach 1 (Using PCA)**](#1)\n",
    "  1. [**Exploratory Data Analysis**](#1_eda)\n",
    "  2. [**PCA**](#1_pca)\n",
    "  3. [**Model building**](#1_model)\n",
    "4. [**Approach 2 (Using //)**](#2)\n",
    "  0. [**Helper Functions**](#helpers)\n",
    "  1. [**Exploratory Data Analysis**](#2_eda)\n",
    "  2. [**Model building**](#2_model)\n"
   ]
  },
  {
   "cell_type": "code",
   "execution_count": 1,
   "metadata": {},
   "outputs": [],
   "source": [
    "import pandas as pd\n",
    "import numpy as np\n",
    "import seaborn as sns\n",
    "from pandas.plotting import scatter_matrix\n",
    "from sklearn.linear_model import LogisticRegression, LinearRegression\n",
    "from sklearn.decomposition import PCA\n",
    "from sklearn.preprocessing import StandardScaler\n",
    "from sklearn.model_selection import train_test_split\n",
    "%matplotlib inline\n",
    "pd.set_option('float_format', '{:f}'.format)"
   ]
  },
  {
   "cell_type": "markdown",
   "metadata": {},
   "source": [
    "<a id='missing_data'></a>\n",
    "### Missing Data Handling"
   ]
  },
  {
   "cell_type": "markdown",
   "metadata": {},
   "source": [
    "First, open the csv data into a Pandas Dataframe"
   ]
  },
  {
   "cell_type": "code",
   "execution_count": 2,
   "metadata": {},
   "outputs": [
    {
     "data": {
      "text/html": [
       "<div>\n",
       "<style scoped>\n",
       "    .dataframe tbody tr th:only-of-type {\n",
       "        vertical-align: middle;\n",
       "    }\n",
       "\n",
       "    .dataframe tbody tr th {\n",
       "        vertical-align: top;\n",
       "    }\n",
       "\n",
       "    .dataframe thead th {\n",
       "        text-align: right;\n",
       "    }\n",
       "</style>\n",
       "<table border=\"1\" class=\"dataframe\">\n",
       "  <thead>\n",
       "    <tr style=\"text-align: right;\">\n",
       "      <th></th>\n",
       "      <th>Pregnancies</th>\n",
       "      <th>Glucose</th>\n",
       "      <th>BloodPressure</th>\n",
       "      <th>SkinThickness</th>\n",
       "      <th>Insulin</th>\n",
       "      <th>BMI</th>\n",
       "      <th>DiabetesPedigreeFunction</th>\n",
       "      <th>Age</th>\n",
       "      <th>Outcome</th>\n",
       "    </tr>\n",
       "  </thead>\n",
       "  <tbody>\n",
       "    <tr>\n",
       "      <td>count</td>\n",
       "      <td>742.000000</td>\n",
       "      <td>752.000000</td>\n",
       "      <td>768.000000</td>\n",
       "      <td>746.000000</td>\n",
       "      <td>768.000000</td>\n",
       "      <td>757.000000</td>\n",
       "      <td>768.000000</td>\n",
       "      <td>749.000000</td>\n",
       "      <td>768.000000</td>\n",
       "    </tr>\n",
       "    <tr>\n",
       "      <td>mean</td>\n",
       "      <td>3.866601</td>\n",
       "      <td>119.966097</td>\n",
       "      <td>68.886078</td>\n",
       "      <td>20.309879</td>\n",
       "      <td>79.799479</td>\n",
       "      <td>31.711151</td>\n",
       "      <td>0.471876</td>\n",
       "      <td>33.761336</td>\n",
       "      <td>0.348958</td>\n",
       "    </tr>\n",
       "    <tr>\n",
       "      <td>std</td>\n",
       "      <td>3.479971</td>\n",
       "      <td>32.367659</td>\n",
       "      <td>19.427448</td>\n",
       "      <td>15.974523</td>\n",
       "      <td>115.244002</td>\n",
       "      <td>8.544789</td>\n",
       "      <td>0.331329</td>\n",
       "      <td>12.297409</td>\n",
       "      <td>0.476951</td>\n",
       "    </tr>\n",
       "    <tr>\n",
       "      <td>min</td>\n",
       "      <td>-5.412815</td>\n",
       "      <td>0.000000</td>\n",
       "      <td>-3.496455</td>\n",
       "      <td>-11.945520</td>\n",
       "      <td>0.000000</td>\n",
       "      <td>-16.288921</td>\n",
       "      <td>0.078000</td>\n",
       "      <td>21.000000</td>\n",
       "      <td>0.000000</td>\n",
       "    </tr>\n",
       "    <tr>\n",
       "      <td>25%</td>\n",
       "      <td>1.000000</td>\n",
       "      <td>99.000000</td>\n",
       "      <td>62.000000</td>\n",
       "      <td>0.000000</td>\n",
       "      <td>0.000000</td>\n",
       "      <td>27.100000</td>\n",
       "      <td>0.243750</td>\n",
       "      <td>24.000000</td>\n",
       "      <td>0.000000</td>\n",
       "    </tr>\n",
       "    <tr>\n",
       "      <td>50%</td>\n",
       "      <td>3.000000</td>\n",
       "      <td>116.000000</td>\n",
       "      <td>72.000000</td>\n",
       "      <td>23.000000</td>\n",
       "      <td>30.500000</td>\n",
       "      <td>32.000000</td>\n",
       "      <td>0.372500</td>\n",
       "      <td>29.000000</td>\n",
       "      <td>0.000000</td>\n",
       "    </tr>\n",
       "    <tr>\n",
       "      <td>75%</td>\n",
       "      <td>6.000000</td>\n",
       "      <td>140.000000</td>\n",
       "      <td>80.000000</td>\n",
       "      <td>32.000000</td>\n",
       "      <td>127.250000</td>\n",
       "      <td>36.500000</td>\n",
       "      <td>0.626250</td>\n",
       "      <td>41.000000</td>\n",
       "      <td>1.000000</td>\n",
       "    </tr>\n",
       "    <tr>\n",
       "      <td>max</td>\n",
       "      <td>17.000000</td>\n",
       "      <td>199.000000</td>\n",
       "      <td>122.000000</td>\n",
       "      <td>99.000000</td>\n",
       "      <td>846.000000</td>\n",
       "      <td>67.100000</td>\n",
       "      <td>2.420000</td>\n",
       "      <td>81.000000</td>\n",
       "      <td>1.000000</td>\n",
       "    </tr>\n",
       "  </tbody>\n",
       "</table>\n",
       "</div>"
      ],
      "text/plain": [
       "       Pregnancies    Glucose  BloodPressure  SkinThickness    Insulin  \\\n",
       "count   742.000000 752.000000     768.000000     746.000000 768.000000   \n",
       "mean      3.866601 119.966097      68.886078      20.309879  79.799479   \n",
       "std       3.479971  32.367659      19.427448      15.974523 115.244002   \n",
       "min      -5.412815   0.000000      -3.496455     -11.945520   0.000000   \n",
       "25%       1.000000  99.000000      62.000000       0.000000   0.000000   \n",
       "50%       3.000000 116.000000      72.000000      23.000000  30.500000   \n",
       "75%       6.000000 140.000000      80.000000      32.000000 127.250000   \n",
       "max      17.000000 199.000000     122.000000      99.000000 846.000000   \n",
       "\n",
       "             BMI  DiabetesPedigreeFunction        Age    Outcome  \n",
       "count 757.000000                768.000000 749.000000 768.000000  \n",
       "mean   31.711151                  0.471876  33.761336   0.348958  \n",
       "std     8.544789                  0.331329  12.297409   0.476951  \n",
       "min   -16.288921                  0.078000  21.000000   0.000000  \n",
       "25%    27.100000                  0.243750  24.000000   0.000000  \n",
       "50%    32.000000                  0.372500  29.000000   0.000000  \n",
       "75%    36.500000                  0.626250  41.000000   1.000000  \n",
       "max    67.100000                  2.420000  81.000000   1.000000  "
      ]
     },
     "execution_count": 2,
     "metadata": {},
     "output_type": "execute_result"
    }
   ],
   "source": [
    "df = pd.read_csv(\"Pima_Indian_diabetes.csv\")\n",
    "df.describe()"
   ]
  },
  {
   "cell_type": "markdown",
   "metadata": {},
   "source": [
    "Select list of features."
   ]
  },
  {
   "cell_type": "code",
   "execution_count": 3,
   "metadata": {},
   "outputs": [],
   "source": [
    "features = ['Pregnancies','Glucose', 'BloodPressure','SkinThickness', 'Insulin', 'BMI', 'DiabetesPedigreeFunction', 'Age']"
   ]
  },
  {
   "cell_type": "code",
   "execution_count": 4,
   "metadata": {},
   "outputs": [
    {
     "data": {
      "text/plain": [
       "Pregnancies                 26\n",
       "Glucose                     16\n",
       "BloodPressure                0\n",
       "SkinThickness               22\n",
       "Insulin                      0\n",
       "BMI                         11\n",
       "DiabetesPedigreeFunction     0\n",
       "Age                         19\n",
       "Outcome                      0\n",
       "dtype: int64"
      ]
     },
     "execution_count": 4,
     "metadata": {},
     "output_type": "execute_result"
    }
   ],
   "source": [
    "# count of null values\n",
    "df.isnull().sum()"
   ]
  },
  {
   "cell_type": "markdown",
   "metadata": {},
   "source": [
    "Filling the missing values by a random number picked between mean +/- std-dev"
   ]
  },
  {
   "cell_type": "code",
   "execution_count": 5,
   "metadata": {},
   "outputs": [],
   "source": [
    "for feature in features:\n",
    "    df[feature].fillna(value=np.random.normal(df[feature].mean(), df[feature].std()/2), inplace=True)"
   ]
  },
  {
   "cell_type": "code",
   "execution_count": 6,
   "metadata": {},
   "outputs": [
    {
     "data": {
      "text/plain": [
       "Pregnancies                 0\n",
       "Glucose                     0\n",
       "BloodPressure               0\n",
       "SkinThickness               0\n",
       "Insulin                     0\n",
       "BMI                         0\n",
       "DiabetesPedigreeFunction    0\n",
       "Age                         0\n",
       "Outcome                     0\n",
       "dtype: int64"
      ]
     },
     "execution_count": 6,
     "metadata": {},
     "output_type": "execute_result"
    }
   ],
   "source": [
    "# count of null values\n",
    "df.isnull().sum()"
   ]
  },
  {
   "cell_type": "markdown",
   "metadata": {},
   "source": [
    "<a id='preprocessing'></a>\n",
    "### Data Preprocessing"
   ]
  },
  {
   "cell_type": "markdown",
   "metadata": {},
   "source": [
    "Filling in the negative values with zero"
   ]
  },
  {
   "cell_type": "code",
   "execution_count": 7,
   "metadata": {},
   "outputs": [
    {
     "data": {
      "text/plain": [
       "Pregnancies                 3\n",
       "Glucose                     0\n",
       "BloodPressure               3\n",
       "SkinThickness               5\n",
       "Insulin                     0\n",
       "BMI                         4\n",
       "DiabetesPedigreeFunction    0\n",
       "Age                         0\n",
       "Outcome                     0\n",
       "dtype: int64"
      ]
     },
     "execution_count": 7,
     "metadata": {},
     "output_type": "execute_result"
    }
   ],
   "source": [
    "df.where( df < 0).count()"
   ]
  },
  {
   "cell_type": "code",
   "execution_count": 8,
   "metadata": {},
   "outputs": [],
   "source": [
    "for feature in features:\n",
    "    df.loc[df[feature] < 0, feature] = 0"
   ]
  },
  {
   "cell_type": "code",
   "execution_count": 9,
   "metadata": {},
   "outputs": [
    {
     "data": {
      "text/plain": [
       "Pregnancies                 0\n",
       "Glucose                     0\n",
       "BloodPressure               0\n",
       "SkinThickness               0\n",
       "Insulin                     0\n",
       "BMI                         0\n",
       "DiabetesPedigreeFunction    0\n",
       "Age                         0\n",
       "Outcome                     0\n",
       "dtype: int64"
      ]
     },
     "execution_count": 9,
     "metadata": {},
     "output_type": "execute_result"
    }
   ],
   "source": [
    "df.where( df < 0).count()"
   ]
  },
  {
   "cell_type": "markdown",
   "metadata": {},
   "source": [
    "Dealing with higher values"
   ]
  },
  {
   "cell_type": "code",
   "execution_count": 37,
   "metadata": {},
   "outputs": [
    {
     "data": {
      "text/plain": [
       "Pregnancies                 0\n",
       "Glucose                     0\n",
       "BloodPressure               0\n",
       "SkinThickness               0\n",
       "Insulin                     0\n",
       "BMI                         0\n",
       "DiabetesPedigreeFunction    0\n",
       "Age                         0\n",
       "Outcome                     0\n",
       "dtype: int64"
      ]
     },
     "execution_count": 37,
     "metadata": {},
     "output_type": "execute_result"
    }
   ],
   "source": []
  },
  {
   "cell_type": "code",
   "execution_count": 11,
   "metadata": {},
   "outputs": [],
   "source": [
    "df.loc[df.Insulin > 300, 'Insulin'] = 300"
   ]
  },
  {
   "cell_type": "markdown",
   "metadata": {},
   "source": [
    "<a id='1'></a>\n",
    "### Approach 1"
   ]
  },
  {
   "cell_type": "markdown",
   "metadata": {},
   "source": [
    "<a id='1_eda'></a>\n",
    "### Exploratory Data Analysis"
   ]
  },
  {
   "cell_type": "code",
   "execution_count": 12,
   "metadata": {},
   "outputs": [],
   "source": [
    "#plot = scatter_matrix(df, alpha=0.2, figsize=(15, 15))"
   ]
  },
  {
   "cell_type": "markdown",
   "metadata": {},
   "source": [
    "<a id='1_pca'></a>\n",
    "### PCA"
   ]
  },
  {
   "cell_type": "code",
   "execution_count": 13,
   "metadata": {},
   "outputs": [],
   "source": [
    "x = df.loc[:, features].values\n",
    "y = df.loc[:,['Outcome']].values\n",
    "x = StandardScaler().fit_transform(x)\n",
    "\n",
    "pca = PCA(n_components=7)\n",
    "principal_components = pca.fit_transform(x)\n",
    "principal_df = pd.DataFrame(data = principal_components, columns = ['principal component 1', 'principal component 2', 'principal component 3', 'principal component 4', 'principal component 5', 'principal component 6', 'principal component 7'])\n",
    "\n",
    "pca_df = pd.concat([principal_df, df[['Outcome']]], axis = 1)"
   ]
  },
  {
   "cell_type": "code",
   "execution_count": 14,
   "metadata": {},
   "outputs": [
    {
     "data": {
      "text/html": [
       "<div>\n",
       "<style scoped>\n",
       "    .dataframe tbody tr th:only-of-type {\n",
       "        vertical-align: middle;\n",
       "    }\n",
       "\n",
       "    .dataframe tbody tr th {\n",
       "        vertical-align: top;\n",
       "    }\n",
       "\n",
       "    .dataframe thead th {\n",
       "        text-align: right;\n",
       "    }\n",
       "</style>\n",
       "<table border=\"1\" class=\"dataframe\">\n",
       "  <thead>\n",
       "    <tr style=\"text-align: right;\">\n",
       "      <th></th>\n",
       "      <th>principal component 1</th>\n",
       "      <th>principal component 2</th>\n",
       "      <th>principal component 3</th>\n",
       "      <th>principal component 4</th>\n",
       "      <th>principal component 5</th>\n",
       "      <th>principal component 6</th>\n",
       "      <th>principal component 7</th>\n",
       "      <th>Outcome</th>\n",
       "    </tr>\n",
       "  </thead>\n",
       "  <tbody>\n",
       "    <tr>\n",
       "      <td>count</td>\n",
       "      <td>768.000000</td>\n",
       "      <td>768.000000</td>\n",
       "      <td>768.000000</td>\n",
       "      <td>768.000000</td>\n",
       "      <td>768.000000</td>\n",
       "      <td>768.000000</td>\n",
       "      <td>768.000000</td>\n",
       "      <td>768.000000</td>\n",
       "    </tr>\n",
       "    <tr>\n",
       "      <td>mean</td>\n",
       "      <td>0.000000</td>\n",
       "      <td>-0.000000</td>\n",
       "      <td>-0.000000</td>\n",
       "      <td>-0.000000</td>\n",
       "      <td>0.000000</td>\n",
       "      <td>-0.000000</td>\n",
       "      <td>-0.000000</td>\n",
       "      <td>0.348958</td>\n",
       "    </tr>\n",
       "    <tr>\n",
       "      <td>std</td>\n",
       "      <td>1.440108</td>\n",
       "      <td>1.293926</td>\n",
       "      <td>1.009961</td>\n",
       "      <td>0.941964</td>\n",
       "      <td>0.882994</td>\n",
       "      <td>0.825394</td>\n",
       "      <td>0.696675</td>\n",
       "      <td>0.476951</td>\n",
       "    </tr>\n",
       "    <tr>\n",
       "      <td>min</td>\n",
       "      <td>-4.829550</td>\n",
       "      <td>-2.192926</td>\n",
       "      <td>-3.123318</td>\n",
       "      <td>-2.640715</td>\n",
       "      <td>-2.638223</td>\n",
       "      <td>-3.252560</td>\n",
       "      <td>-2.026239</td>\n",
       "      <td>0.000000</td>\n",
       "    </tr>\n",
       "    <tr>\n",
       "      <td>25%</td>\n",
       "      <td>-0.958447</td>\n",
       "      <td>-1.071372</td>\n",
       "      <td>-0.657164</td>\n",
       "      <td>-0.591702</td>\n",
       "      <td>-0.534643</td>\n",
       "      <td>-0.460917</td>\n",
       "      <td>-0.404186</td>\n",
       "      <td>0.000000</td>\n",
       "    </tr>\n",
       "    <tr>\n",
       "      <td>50%</td>\n",
       "      <td>-0.090395</td>\n",
       "      <td>-0.317594</td>\n",
       "      <td>-0.101930</td>\n",
       "      <td>-0.136476</td>\n",
       "      <td>-0.029289</td>\n",
       "      <td>-0.050970</td>\n",
       "      <td>-0.068738</td>\n",
       "      <td>0.000000</td>\n",
       "    </tr>\n",
       "    <tr>\n",
       "      <td>75%</td>\n",
       "      <td>0.914813</td>\n",
       "      <td>0.953352</td>\n",
       "      <td>0.552948</td>\n",
       "      <td>0.490361</td>\n",
       "      <td>0.545982</td>\n",
       "      <td>0.374448</td>\n",
       "      <td>0.324094</td>\n",
       "      <td>1.000000</td>\n",
       "    </tr>\n",
       "    <tr>\n",
       "      <td>max</td>\n",
       "      <td>4.986868</td>\n",
       "      <td>3.660206</td>\n",
       "      <td>3.863457</td>\n",
       "      <td>4.541344</td>\n",
       "      <td>2.760521</td>\n",
       "      <td>4.557745</td>\n",
       "      <td>3.237236</td>\n",
       "      <td>1.000000</td>\n",
       "    </tr>\n",
       "  </tbody>\n",
       "</table>\n",
       "</div>"
      ],
      "text/plain": [
       "       principal component 1  principal component 2  principal component 3  \\\n",
       "count             768.000000             768.000000             768.000000   \n",
       "mean                0.000000              -0.000000              -0.000000   \n",
       "std                 1.440108               1.293926               1.009961   \n",
       "min                -4.829550              -2.192926              -3.123318   \n",
       "25%                -0.958447              -1.071372              -0.657164   \n",
       "50%                -0.090395              -0.317594              -0.101930   \n",
       "75%                 0.914813               0.953352               0.552948   \n",
       "max                 4.986868               3.660206               3.863457   \n",
       "\n",
       "       principal component 4  principal component 5  principal component 6  \\\n",
       "count             768.000000             768.000000             768.000000   \n",
       "mean               -0.000000               0.000000              -0.000000   \n",
       "std                 0.941964               0.882994               0.825394   \n",
       "min                -2.640715              -2.638223              -3.252560   \n",
       "25%                -0.591702              -0.534643              -0.460917   \n",
       "50%                -0.136476              -0.029289              -0.050970   \n",
       "75%                 0.490361               0.545982               0.374448   \n",
       "max                 4.541344               2.760521               4.557745   \n",
       "\n",
       "       principal component 7    Outcome  \n",
       "count             768.000000 768.000000  \n",
       "mean               -0.000000   0.348958  \n",
       "std                 0.696675   0.476951  \n",
       "min                -2.026239   0.000000  \n",
       "25%                -0.404186   0.000000  \n",
       "50%                -0.068738   0.000000  \n",
       "75%                 0.324094   1.000000  \n",
       "max                 3.237236   1.000000  "
      ]
     },
     "execution_count": 14,
     "metadata": {},
     "output_type": "execute_result"
    }
   ],
   "source": [
    "pca_df.describe()\n",
    "#plot = scatter_matrix(pca_df, alpha=0.2, figsize=(15, 15))"
   ]
  },
  {
   "cell_type": "markdown",
   "metadata": {},
   "source": [
    "<a id='1_model'></a>\n",
    "### Model Building"
   ]
  },
  {
   "cell_type": "code",
   "execution_count": 15,
   "metadata": {},
   "outputs": [],
   "source": [
    "accuracy = []\n",
    "\n",
    "for i in range(500):\n",
    "    pca_df = pca_df.sample(frac=1)\n",
    "    pca_X = pca_df[pca_df.columns[0:7]]\n",
    "    pca_y = pca_df[pca_df.columns[7]] \n",
    "    \n",
    "    train_X, val_X, train_y, val_y = train_test_split(pca_X, pca_y, test_size = 0.20)\n",
    "    lr = LogisticRegression(max_iter=2000, solver='lbfgs')\n",
    "    lr.fit(train_X, train_y)\n",
    "    accuracy.append(lr.score(val_X, val_y)*100)"
   ]
  },
  {
   "cell_type": "code",
   "execution_count": 16,
   "metadata": {},
   "outputs": [
    {
     "name": "stdout",
     "output_type": "stream",
     "text": [
      "76.98181818181818 85.06493506493507 63.63636363636363\n"
     ]
    }
   ],
   "source": [
    "average_accuracy = sum(accuracy)/len(accuracy)\n",
    "print(average_accuracy, max(accuracy), min(accuracy))"
   ]
  },
  {
   "cell_type": "markdown",
   "metadata": {},
   "source": [
    "<a id='2'></a>\n",
    "### Approach 2"
   ]
  },
  {
   "cell_type": "markdown",
   "metadata": {},
   "source": [
    "#### Helper Function"
   ]
  },
  {
   "cell_type": "code",
   "execution_count": 17,
   "metadata": {},
   "outputs": [],
   "source": [
    "def linear_regression(df, feature, target):\n",
    "    zero_target_data = df[ df[target] == 0 ]\n",
    "    non_zero_target_data = df[ df[target] != 0]\n",
    "\n",
    "    train_X = non_zero_target_data[feature].values.reshape(-1,1)\n",
    "    train_y = non_zero_target_data[target].values.reshape(-1,1)\n",
    "    val_X = zero_target_data[feature].values.reshape(-1,1)\n",
    "\n",
    "    model = LinearRegression()\n",
    "    model.fit(train_X, train_y)\n",
    "    predicted_y = model.predict(val_X)\n",
    "\n",
    "    j = 0\n",
    "    for i in df.index:\n",
    "        if df.at[i, target] == 0:\n",
    "            df.at[i, target] = predicted_y[j][0]\n",
    "            j+=1"
   ]
  },
  {
   "cell_type": "markdown",
   "metadata": {},
   "source": [
    "<a id='2_eda'></a>\n",
    "### Exploratory Data Analysis"
   ]
  },
  {
   "cell_type": "code",
   "execution_count": 18,
   "metadata": {},
   "outputs": [],
   "source": [
    "#plot = df.plot(x='SkinThickness', y='BMI', style='.')\n",
    "#y_label = plot.set_ylabel('BMI')"
   ]
  },
  {
   "cell_type": "code",
   "execution_count": 19,
   "metadata": {},
   "outputs": [],
   "source": [
    "linear_regression(df, 'BMI', 'SkinThickness')"
   ]
  },
  {
   "cell_type": "code",
   "execution_count": 20,
   "metadata": {},
   "outputs": [],
   "source": [
    "#plot = df.plot(x='SkinThickness', y='BMI', style='.')\n",
    "#y_label = plot.set_ylabel('BMI')"
   ]
  },
  {
   "cell_type": "code",
   "execution_count": 21,
   "metadata": {},
   "outputs": [],
   "source": [
    "#plot = df.plot(x='Insulin', y='Glucose', style='.')\n",
    "#y_label = plot.set_ylabel('Glucose')"
   ]
  },
  {
   "cell_type": "code",
   "execution_count": 22,
   "metadata": {},
   "outputs": [],
   "source": [
    "linear_regression(df, 'Glucose', 'Insulin')"
   ]
  },
  {
   "cell_type": "code",
   "execution_count": 23,
   "metadata": {},
   "outputs": [],
   "source": [
    "#plot = df.plot(x='Insulin', y='Glucose', style='.')\n",
    "#y_label = plot.set_ylabel('Glucose')"
   ]
  },
  {
   "cell_type": "code",
   "execution_count": 24,
   "metadata": {},
   "outputs": [
    {
     "data": {
      "text/html": [
       "<div>\n",
       "<style scoped>\n",
       "    .dataframe tbody tr th:only-of-type {\n",
       "        vertical-align: middle;\n",
       "    }\n",
       "\n",
       "    .dataframe tbody tr th {\n",
       "        vertical-align: top;\n",
       "    }\n",
       "\n",
       "    .dataframe thead th {\n",
       "        text-align: right;\n",
       "    }\n",
       "</style>\n",
       "<table border=\"1\" class=\"dataframe\">\n",
       "  <thead>\n",
       "    <tr style=\"text-align: right;\">\n",
       "      <th></th>\n",
       "      <th>Pregnancies</th>\n",
       "      <th>Glucose</th>\n",
       "      <th>BloodPressure</th>\n",
       "      <th>SkinThickness</th>\n",
       "      <th>Insulin</th>\n",
       "      <th>BMI</th>\n",
       "      <th>DiabetesPedigreeFunction</th>\n",
       "      <th>Age</th>\n",
       "      <th>Outcome</th>\n",
       "    </tr>\n",
       "  </thead>\n",
       "  <tbody>\n",
       "    <tr>\n",
       "      <td>count</td>\n",
       "      <td>768.000000</td>\n",
       "      <td>768.000000</td>\n",
       "      <td>768.000000</td>\n",
       "      <td>768.000000</td>\n",
       "      <td>768.000000</td>\n",
       "      <td>768.000000</td>\n",
       "      <td>768.000000</td>\n",
       "      <td>768.000000</td>\n",
       "      <td>768.000000</td>\n",
       "    </tr>\n",
       "    <tr>\n",
       "      <td>mean</td>\n",
       "      <td>-0.000000</td>\n",
       "      <td>0.000000</td>\n",
       "      <td>-0.000000</td>\n",
       "      <td>0.000000</td>\n",
       "      <td>-0.000000</td>\n",
       "      <td>-0.000000</td>\n",
       "      <td>0.000000</td>\n",
       "      <td>-0.000000</td>\n",
       "      <td>0.348958</td>\n",
       "    </tr>\n",
       "    <tr>\n",
       "      <td>std</td>\n",
       "      <td>1.000000</td>\n",
       "      <td>1.000000</td>\n",
       "      <td>1.000000</td>\n",
       "      <td>1.000000</td>\n",
       "      <td>1.000000</td>\n",
       "      <td>1.000000</td>\n",
       "      <td>1.000000</td>\n",
       "      <td>1.000000</td>\n",
       "      <td>0.476951</td>\n",
       "    </tr>\n",
       "    <tr>\n",
       "      <td>min</td>\n",
       "      <td>-1.140480</td>\n",
       "      <td>-3.747762</td>\n",
       "      <td>-3.552478</td>\n",
       "      <td>-2.558652</td>\n",
       "      <td>-2.793478</td>\n",
       "      <td>-3.845800</td>\n",
       "      <td>-1.188778</td>\n",
       "      <td>-1.060203</td>\n",
       "      <td>0.000000</td>\n",
       "    </tr>\n",
       "    <tr>\n",
       "      <td>25%</td>\n",
       "      <td>-0.845250</td>\n",
       "      <td>-0.661992</td>\n",
       "      <td>-0.355549</td>\n",
       "      <td>-0.685152</td>\n",
       "      <td>-0.679293</td>\n",
       "      <td>-0.548022</td>\n",
       "      <td>-0.688520</td>\n",
       "      <td>-0.813966</td>\n",
       "      <td>0.000000</td>\n",
       "    </tr>\n",
       "    <tr>\n",
       "      <td>50%</td>\n",
       "      <td>-0.254790</td>\n",
       "      <td>-0.100942</td>\n",
       "      <td>0.160084</td>\n",
       "      <td>-0.048871</td>\n",
       "      <td>-0.144938</td>\n",
       "      <td>0.059543</td>\n",
       "      <td>-0.299933</td>\n",
       "      <td>-0.321491</td>\n",
       "      <td>0.000000</td>\n",
       "    </tr>\n",
       "    <tr>\n",
       "      <td>75%</td>\n",
       "      <td>0.630901</td>\n",
       "      <td>0.584784</td>\n",
       "      <td>0.572591</td>\n",
       "      <td>0.580585</td>\n",
       "      <td>0.565741</td>\n",
       "      <td>0.558290</td>\n",
       "      <td>0.465923</td>\n",
       "      <td>0.581378</td>\n",
       "      <td>1.000000</td>\n",
       "    </tr>\n",
       "    <tr>\n",
       "      <td>max</td>\n",
       "      <td>3.878433</td>\n",
       "      <td>2.454948</td>\n",
       "      <td>2.738252</td>\n",
       "      <td>7.203728</td>\n",
       "      <td>2.355588</td>\n",
       "      <td>4.267157</td>\n",
       "      <td>5.879733</td>\n",
       "      <td>3.864539</td>\n",
       "      <td>1.000000</td>\n",
       "    </tr>\n",
       "  </tbody>\n",
       "</table>\n",
       "</div>"
      ],
      "text/plain": [
       "       Pregnancies    Glucose  BloodPressure  SkinThickness    Insulin  \\\n",
       "count   768.000000 768.000000     768.000000     768.000000 768.000000   \n",
       "mean     -0.000000   0.000000      -0.000000       0.000000  -0.000000   \n",
       "std       1.000000   1.000000       1.000000       1.000000   1.000000   \n",
       "min      -1.140480  -3.747762      -3.552478      -2.558652  -2.793478   \n",
       "25%      -0.845250  -0.661992      -0.355549      -0.685152  -0.679293   \n",
       "50%      -0.254790  -0.100942       0.160084      -0.048871  -0.144938   \n",
       "75%       0.630901   0.584784       0.572591       0.580585   0.565741   \n",
       "max       3.878433   2.454948       2.738252       7.203728   2.355588   \n",
       "\n",
       "             BMI  DiabetesPedigreeFunction        Age    Outcome  \n",
       "count 768.000000                768.000000 768.000000 768.000000  \n",
       "mean   -0.000000                  0.000000  -0.000000   0.348958  \n",
       "std     1.000000                  1.000000   1.000000   0.476951  \n",
       "min    -3.845800                 -1.188778  -1.060203   0.000000  \n",
       "25%    -0.548022                 -0.688520  -0.813966   0.000000  \n",
       "50%     0.059543                 -0.299933  -0.321491   0.000000  \n",
       "75%     0.558290                  0.465923   0.581378   1.000000  \n",
       "max     4.267157                  5.879733   3.864539   1.000000  "
      ]
     },
     "execution_count": 24,
     "metadata": {},
     "output_type": "execute_result"
    }
   ],
   "source": [
    "for feature in features:\n",
    "    df[feature] = (df[feature] - df[feature].mean())/(df[feature].std())\n",
    "df.describe()"
   ]
  },
  {
   "cell_type": "markdown",
   "metadata": {},
   "source": [
    "<a id='2_model'></a>\n",
    "### Model Building"
   ]
  },
  {
   "cell_type": "code",
   "execution_count": 25,
   "metadata": {},
   "outputs": [],
   "source": [
    "accuracy = []\n",
    "\n",
    "for i in range(500):\n",
    "    df = df.sample(frac=1)\n",
    "    X = df[df.columns[0:8]]\n",
    "    y = df[df.columns[8]] \n",
    "    \n",
    "    train_X, val_X, train_y, val_y = train_test_split(X, y, test_size = 0.20)\n",
    "    lr = LogisticRegression(max_iter=2000, solver='lbfgs')\n",
    "    lr.fit(train_X, train_y)\n",
    "    accuracy_percent = lr.score(val_X, val_y)*100\n",
    "    accuracy.append(accuracy_percent)"
   ]
  },
  {
   "cell_type": "code",
   "execution_count": 26,
   "metadata": {},
   "outputs": [
    {
     "name": "stdout",
     "output_type": "stream",
     "text": [
      "76.45194805194805 87.66233766233766 66.88311688311688\n"
     ]
    }
   ],
   "source": [
    "average_accuracy = np.mean(accuracy)\n",
    "print(average_accuracy, max(accuracy), min(accuracy))"
   ]
  }
 ],
 "metadata": {
  "kernelspec": {
   "display_name": "Python 3",
   "language": "python",
   "name": "python3"
  },
  "language_info": {
   "codemirror_mode": {
    "name": "ipython",
    "version": 3
   },
   "file_extension": ".py",
   "mimetype": "text/x-python",
   "name": "python",
   "nbconvert_exporter": "python",
   "pygments_lexer": "ipython3",
   "version": "3.6.8"
  }
 },
 "nbformat": 4,
 "nbformat_minor": 2
}
