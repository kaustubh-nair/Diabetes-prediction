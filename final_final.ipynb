{
 "cells": [
  {
   "cell_type": "markdown",
   "metadata": {},
   "source": [
    "## Assignment 1 - Diabetes Prediction\n",
    "A machine learning model to accurately classify whether or not the patients in the dataset have diabetes or not.<br><br>\n",
    "**Team members:**\n",
    "* Ayush Yadav ( IMT2017009 )\n",
    "* Kaustubh Nair ( IMT2017025 )\n",
    "* Sarthak Khoche ( IMT2017038 )\n",
    "\n",
    "### Overview: \n",
    "1. [**Feature Extraction**](#feature)\n",
    "2. [**Missing Data Handling**](#missing_data)\n",
    "3. [**Data Preprocessing**](#preprocessing)\n",
    "4. [**Approach 1 (Using PCA)**](#1)\n",
    "  1. [**Exploratory Data Analysis**](#1_eda)\n",
    "  2. [**PCA**](#1_pca)\n",
    "  3. [**Model building**](#1_model)\n",
    "5. [**Approach 2 (Using Regression Imputation)**](#2)\n",
    "  1. [**Exploratory Data Analysis**](#2_eda)\n",
    "  2. [**Model building**](#2_model)\n"
   ]
  },
  {
   "cell_type": "code",
   "execution_count": 1,
   "metadata": {},
   "outputs": [],
   "source": [
    "import pandas as pd\n",
    "import numpy as np\n",
    "import seaborn as sns\n",
    "from IPython.display import Markdown as md\n",
    "from pandas.plotting import scatter_matrix\n",
    "from sklearn.linear_model import LogisticRegression, LinearRegression\n",
    "from sklearn.decomposition import PCA\n",
    "from sklearn.svm import SVC\n",
    "from sklearn.ensemble import RandomForestClassifier\n",
    "from sklearn.naive_bayes import GaussianNB\n",
    "from sklearn.neighbors import KNeighborsClassifier\n",
    "from sklearn.preprocessing import StandardScaler\n",
    "from sklearn.model_selection import train_test_split\n",
    "%matplotlib inline\n",
    "pd.set_option('float_format', '{:f}'.format)"
   ]
  },
  {
   "cell_type": "markdown",
   "metadata": {},
   "source": [
    "First, open the csv data into a Pandas Dataframe"
   ]
  },
  {
   "cell_type": "code",
   "execution_count": 2,
   "metadata": {},
   "outputs": [
    {
     "data": {
      "text/html": [
       "<div>\n",
       "<style scoped>\n",
       "    .dataframe tbody tr th:only-of-type {\n",
       "        vertical-align: middle;\n",
       "    }\n",
       "\n",
       "    .dataframe tbody tr th {\n",
       "        vertical-align: top;\n",
       "    }\n",
       "\n",
       "    .dataframe thead th {\n",
       "        text-align: right;\n",
       "    }\n",
       "</style>\n",
       "<table border=\"1\" class=\"dataframe\">\n",
       "  <thead>\n",
       "    <tr style=\"text-align: right;\">\n",
       "      <th></th>\n",
       "      <th>Pregnancies</th>\n",
       "      <th>Glucose</th>\n",
       "      <th>BloodPressure</th>\n",
       "      <th>SkinThickness</th>\n",
       "      <th>Insulin</th>\n",
       "      <th>BMI</th>\n",
       "      <th>DiabetesPedigreeFunction</th>\n",
       "      <th>Age</th>\n",
       "      <th>Outcome</th>\n",
       "    </tr>\n",
       "  </thead>\n",
       "  <tbody>\n",
       "    <tr>\n",
       "      <td>count</td>\n",
       "      <td>742.000000</td>\n",
       "      <td>752.000000</td>\n",
       "      <td>768.000000</td>\n",
       "      <td>746.000000</td>\n",
       "      <td>768.000000</td>\n",
       "      <td>757.000000</td>\n",
       "      <td>768.000000</td>\n",
       "      <td>749.000000</td>\n",
       "      <td>768.000000</td>\n",
       "    </tr>\n",
       "    <tr>\n",
       "      <td>mean</td>\n",
       "      <td>3.866601</td>\n",
       "      <td>119.966097</td>\n",
       "      <td>68.886078</td>\n",
       "      <td>20.309879</td>\n",
       "      <td>79.799479</td>\n",
       "      <td>31.711151</td>\n",
       "      <td>0.471876</td>\n",
       "      <td>33.761336</td>\n",
       "      <td>0.348958</td>\n",
       "    </tr>\n",
       "    <tr>\n",
       "      <td>std</td>\n",
       "      <td>3.479971</td>\n",
       "      <td>32.367659</td>\n",
       "      <td>19.427448</td>\n",
       "      <td>15.974523</td>\n",
       "      <td>115.244002</td>\n",
       "      <td>8.544789</td>\n",
       "      <td>0.331329</td>\n",
       "      <td>12.297409</td>\n",
       "      <td>0.476951</td>\n",
       "    </tr>\n",
       "    <tr>\n",
       "      <td>min</td>\n",
       "      <td>-5.412815</td>\n",
       "      <td>0.000000</td>\n",
       "      <td>-3.496455</td>\n",
       "      <td>-11.945520</td>\n",
       "      <td>0.000000</td>\n",
       "      <td>-16.288921</td>\n",
       "      <td>0.078000</td>\n",
       "      <td>21.000000</td>\n",
       "      <td>0.000000</td>\n",
       "    </tr>\n",
       "    <tr>\n",
       "      <td>25%</td>\n",
       "      <td>1.000000</td>\n",
       "      <td>99.000000</td>\n",
       "      <td>62.000000</td>\n",
       "      <td>0.000000</td>\n",
       "      <td>0.000000</td>\n",
       "      <td>27.100000</td>\n",
       "      <td>0.243750</td>\n",
       "      <td>24.000000</td>\n",
       "      <td>0.000000</td>\n",
       "    </tr>\n",
       "    <tr>\n",
       "      <td>50%</td>\n",
       "      <td>3.000000</td>\n",
       "      <td>116.000000</td>\n",
       "      <td>72.000000</td>\n",
       "      <td>23.000000</td>\n",
       "      <td>30.500000</td>\n",
       "      <td>32.000000</td>\n",
       "      <td>0.372500</td>\n",
       "      <td>29.000000</td>\n",
       "      <td>0.000000</td>\n",
       "    </tr>\n",
       "    <tr>\n",
       "      <td>75%</td>\n",
       "      <td>6.000000</td>\n",
       "      <td>140.000000</td>\n",
       "      <td>80.000000</td>\n",
       "      <td>32.000000</td>\n",
       "      <td>127.250000</td>\n",
       "      <td>36.500000</td>\n",
       "      <td>0.626250</td>\n",
       "      <td>41.000000</td>\n",
       "      <td>1.000000</td>\n",
       "    </tr>\n",
       "    <tr>\n",
       "      <td>max</td>\n",
       "      <td>17.000000</td>\n",
       "      <td>199.000000</td>\n",
       "      <td>122.000000</td>\n",
       "      <td>99.000000</td>\n",
       "      <td>846.000000</td>\n",
       "      <td>67.100000</td>\n",
       "      <td>2.420000</td>\n",
       "      <td>81.000000</td>\n",
       "      <td>1.000000</td>\n",
       "    </tr>\n",
       "  </tbody>\n",
       "</table>\n",
       "</div>"
      ],
      "text/plain": [
       "       Pregnancies    Glucose  BloodPressure  SkinThickness    Insulin  \\\n",
       "count   742.000000 752.000000     768.000000     746.000000 768.000000   \n",
       "mean      3.866601 119.966097      68.886078      20.309879  79.799479   \n",
       "std       3.479971  32.367659      19.427448      15.974523 115.244002   \n",
       "min      -5.412815   0.000000      -3.496455     -11.945520   0.000000   \n",
       "25%       1.000000  99.000000      62.000000       0.000000   0.000000   \n",
       "50%       3.000000 116.000000      72.000000      23.000000  30.500000   \n",
       "75%       6.000000 140.000000      80.000000      32.000000 127.250000   \n",
       "max      17.000000 199.000000     122.000000      99.000000 846.000000   \n",
       "\n",
       "             BMI  DiabetesPedigreeFunction        Age    Outcome  \n",
       "count 757.000000                768.000000 749.000000 768.000000  \n",
       "mean   31.711151                  0.471876  33.761336   0.348958  \n",
       "std     8.544789                  0.331329  12.297409   0.476951  \n",
       "min   -16.288921                  0.078000  21.000000   0.000000  \n",
       "25%    27.100000                  0.243750  24.000000   0.000000  \n",
       "50%    32.000000                  0.372500  29.000000   0.000000  \n",
       "75%    36.500000                  0.626250  41.000000   1.000000  \n",
       "max    67.100000                  2.420000  81.000000   1.000000  "
      ]
     },
     "execution_count": 2,
     "metadata": {},
     "output_type": "execute_result"
    }
   ],
   "source": [
    "df = pd.read_csv(\"Pima_Indian_diabetes.csv\")\n",
    "df.describe()"
   ]
  },
  {
   "cell_type": "markdown",
   "metadata": {},
   "source": [
    "<a id='feature'></a>\n",
    "### Feature extraction \n",
    "Since all features are relevent and valid, we're using all of them to train the model."
   ]
  },
  {
   "cell_type": "code",
   "execution_count": 3,
   "metadata": {},
   "outputs": [],
   "source": [
    "features = ['Pregnancies','Glucose', 'BloodPressure','SkinThickness', 'Insulin', 'BMI', 'DiabetesPedigreeFunction', 'Age']"
   ]
  },
  {
   "cell_type": "markdown",
   "metadata": {},
   "source": [
    "<a id='missing_data'></a>\n",
    "### Missing Data Handling"
   ]
  },
  {
   "cell_type": "markdown",
   "metadata": {},
   "source": [
    "Print number of null values in the columns"
   ]
  },
  {
   "cell_type": "code",
   "execution_count": 4,
   "metadata": {},
   "outputs": [
    {
     "data": {
      "text/plain": [
       "Pregnancies                 26\n",
       "Glucose                     16\n",
       "BloodPressure                0\n",
       "SkinThickness               22\n",
       "Insulin                      0\n",
       "BMI                         11\n",
       "DiabetesPedigreeFunction     0\n",
       "Age                         19\n",
       "Outcome                      0\n",
       "dtype: int64"
      ]
     },
     "execution_count": 4,
     "metadata": {},
     "output_type": "execute_result"
    }
   ],
   "source": [
    "# number of null values in each column\n",
    "df.isnull().sum()"
   ]
  },
  {
   "cell_type": "markdown",
   "metadata": {},
   "source": [
    "Assuming the distribution to be a gaussian, sample values between mean +- standard deviation / 2 to replace null values."
   ]
  },
  {
   "cell_type": "code",
   "execution_count": 5,
   "metadata": {},
   "outputs": [],
   "source": [
    "for feature in features:\n",
    "    number = np.random.normal(df[feature].mean(), df[feature].std()/2)\n",
    "    df[feature].fillna(value=number, inplace=True)"
   ]
  },
  {
   "cell_type": "markdown",
   "metadata": {},
   "source": [
    "Verify that there are no null values in any of the columns."
   ]
  },
  {
   "cell_type": "code",
   "execution_count": 6,
   "metadata": {},
   "outputs": [
    {
     "data": {
      "text/plain": [
       "Pregnancies                 0\n",
       "Glucose                     0\n",
       "BloodPressure               0\n",
       "SkinThickness               0\n",
       "Insulin                     0\n",
       "BMI                         0\n",
       "DiabetesPedigreeFunction    0\n",
       "Age                         0\n",
       "Outcome                     0\n",
       "dtype: int64"
      ]
     },
     "execution_count": 6,
     "metadata": {},
     "output_type": "execute_result"
    }
   ],
   "source": [
    "# number of null values in each column\n",
    "df.isnull().sum()"
   ]
  },
  {
   "cell_type": "markdown",
   "metadata": {},
   "source": [
    "<a id='preprocessing'></a>\n",
    "### Data Preprocessing"
   ]
  },
  {
   "cell_type": "markdown",
   "metadata": {},
   "source": [
    "**Dealing with negative values:** <br>Print number of negative values in each column"
   ]
  },
  {
   "cell_type": "code",
   "execution_count": 7,
   "metadata": {},
   "outputs": [
    {
     "data": {
      "text/plain": [
       "Pregnancies                 3\n",
       "Glucose                     0\n",
       "BloodPressure               3\n",
       "SkinThickness               5\n",
       "Insulin                     0\n",
       "BMI                         4\n",
       "DiabetesPedigreeFunction    0\n",
       "Age                         0\n",
       "Outcome                     0\n",
       "dtype: int64"
      ]
     },
     "execution_count": 7,
     "metadata": {},
     "output_type": "execute_result"
    }
   ],
   "source": [
    "df.where( df < 0).count()"
   ]
  },
  {
   "cell_type": "markdown",
   "metadata": {},
   "source": [
    "Since none of these features can be negative, they must be invalid and must be replaced. Since the number of negative values is low, we replace them with 0."
   ]
  },
  {
   "cell_type": "code",
   "execution_count": 8,
   "metadata": {},
   "outputs": [],
   "source": [
    "for feature in features:\n",
    "    df.loc[df[feature] < 0, feature] = 0"
   ]
  },
  {
   "cell_type": "markdown",
   "metadata": {},
   "source": [
    "Verify that there are no more negative values in the columns"
   ]
  },
  {
   "cell_type": "code",
   "execution_count": 9,
   "metadata": {},
   "outputs": [
    {
     "data": {
      "text/plain": [
       "Pregnancies                 0\n",
       "Glucose                     0\n",
       "BloodPressure               0\n",
       "SkinThickness               0\n",
       "Insulin                     0\n",
       "BMI                         0\n",
       "DiabetesPedigreeFunction    0\n",
       "Age                         0\n",
       "Outcome                     0\n",
       "dtype: int64"
      ]
     },
     "execution_count": 9,
     "metadata": {},
     "output_type": "execute_result"
    }
   ],
   "source": [
    "df.where( df < 0).count()"
   ]
  },
  {
   "cell_type": "markdown",
   "metadata": {},
   "source": [
    "Insulin range is between:  \n",
    "* 16-166 mIU/L for non-diabetic people\n",
    "* 166 - 260 mIU/L for high-risk diabetic people\n",
    "* 260 - 300 mIU/L for diabetic people\n",
    "Insulin values greater than 300 mIU/L are highly unlikely.<br>Hence all insulin values in the dataset are capped to 300.<br>\n",
    "[Reference](https://www.mayoclinic.org/diseases-conditions/diabetes/diagnosis-treatment/drc-20371451) "
   ]
  },
  {
   "cell_type": "markdown",
   "metadata": {},
   "source": [
    "**Dealing with outlier values:**"
   ]
  },
  {
   "cell_type": "code",
   "execution_count": 10,
   "metadata": {},
   "outputs": [
    {
     "data": {
      "text/plain": [
       "37"
      ]
     },
     "execution_count": 10,
     "metadata": {},
     "output_type": "execute_result"
    }
   ],
   "source": [
    "df.loc[df['Insulin'] > 300].Insulin.count()"
   ]
  },
  {
   "cell_type": "code",
   "execution_count": 11,
   "metadata": {},
   "outputs": [],
   "source": [
    "df.loc[df.Insulin > 300, 'Insulin'] = 300"
   ]
  },
  {
   "cell_type": "code",
   "execution_count": 12,
   "metadata": {},
   "outputs": [
    {
     "data": {
      "text/plain": [
       "0"
      ]
     },
     "execution_count": 12,
     "metadata": {},
     "output_type": "execute_result"
    }
   ],
   "source": [
    "df.loc[df['Insulin'] > 300].Insulin.count()"
   ]
  },
  {
   "cell_type": "code",
   "execution_count": 13,
   "metadata": {},
   "outputs": [
    {
     "data": {
      "text/html": [
       "<div>\n",
       "<style scoped>\n",
       "    .dataframe tbody tr th:only-of-type {\n",
       "        vertical-align: middle;\n",
       "    }\n",
       "\n",
       "    .dataframe tbody tr th {\n",
       "        vertical-align: top;\n",
       "    }\n",
       "\n",
       "    .dataframe thead th {\n",
       "        text-align: right;\n",
       "    }\n",
       "</style>\n",
       "<table border=\"1\" class=\"dataframe\">\n",
       "  <thead>\n",
       "    <tr style=\"text-align: right;\">\n",
       "      <th></th>\n",
       "      <th>Pregnancies</th>\n",
       "      <th>Glucose</th>\n",
       "      <th>BloodPressure</th>\n",
       "      <th>SkinThickness</th>\n",
       "      <th>Insulin</th>\n",
       "      <th>BMI</th>\n",
       "      <th>DiabetesPedigreeFunction</th>\n",
       "      <th>Age</th>\n",
       "      <th>Outcome</th>\n",
       "    </tr>\n",
       "  </thead>\n",
       "  <tbody>\n",
       "    <tr>\n",
       "      <td>count</td>\n",
       "      <td>768.000000</td>\n",
       "      <td>768.000000</td>\n",
       "      <td>768.000000</td>\n",
       "      <td>768.000000</td>\n",
       "      <td>768.000000</td>\n",
       "      <td>768.000000</td>\n",
       "      <td>768.000000</td>\n",
       "      <td>768.000000</td>\n",
       "      <td>768.000000</td>\n",
       "    </tr>\n",
       "    <tr>\n",
       "      <td>mean</td>\n",
       "      <td>3.974095</td>\n",
       "      <td>119.678802</td>\n",
       "      <td>68.895389</td>\n",
       "      <td>20.594471</td>\n",
       "      <td>0.302083</td>\n",
       "      <td>31.750544</td>\n",
       "      <td>0.471876</td>\n",
       "      <td>10.888393</td>\n",
       "      <td>0.348958</td>\n",
       "    </tr>\n",
       "    <tr>\n",
       "      <td>std</td>\n",
       "      <td>3.417228</td>\n",
       "      <td>32.088859</td>\n",
       "      <td>19.393614</td>\n",
       "      <td>15.728370</td>\n",
       "      <td>0.604111</td>\n",
       "      <td>8.262013</td>\n",
       "      <td>0.331329</td>\n",
       "      <td>14.451596</td>\n",
       "      <td>0.476951</td>\n",
       "    </tr>\n",
       "    <tr>\n",
       "      <td>min</td>\n",
       "      <td>0.000000</td>\n",
       "      <td>0.000000</td>\n",
       "      <td>0.000000</td>\n",
       "      <td>0.000000</td>\n",
       "      <td>0.000000</td>\n",
       "      <td>0.000000</td>\n",
       "      <td>0.078000</td>\n",
       "      <td>0.000000</td>\n",
       "      <td>0.000000</td>\n",
       "    </tr>\n",
       "    <tr>\n",
       "      <td>25%</td>\n",
       "      <td>1.000000</td>\n",
       "      <td>99.000000</td>\n",
       "      <td>62.000000</td>\n",
       "      <td>0.000000</td>\n",
       "      <td>0.000000</td>\n",
       "      <td>27.275000</td>\n",
       "      <td>0.243750</td>\n",
       "      <td>0.000000</td>\n",
       "      <td>0.000000</td>\n",
       "    </tr>\n",
       "    <tr>\n",
       "      <td>50%</td>\n",
       "      <td>3.000000</td>\n",
       "      <td>115.000000</td>\n",
       "      <td>72.000000</td>\n",
       "      <td>23.000000</td>\n",
       "      <td>0.000000</td>\n",
       "      <td>32.000000</td>\n",
       "      <td>0.372500</td>\n",
       "      <td>2.000000</td>\n",
       "      <td>0.000000</td>\n",
       "    </tr>\n",
       "    <tr>\n",
       "      <td>75%</td>\n",
       "      <td>6.437409</td>\n",
       "      <td>139.000000</td>\n",
       "      <td>80.000000</td>\n",
       "      <td>32.000000</td>\n",
       "      <td>0.000000</td>\n",
       "      <td>36.425000</td>\n",
       "      <td>0.626250</td>\n",
       "      <td>28.000000</td>\n",
       "      <td>1.000000</td>\n",
       "    </tr>\n",
       "    <tr>\n",
       "      <td>max</td>\n",
       "      <td>17.000000</td>\n",
       "      <td>199.000000</td>\n",
       "      <td>122.000000</td>\n",
       "      <td>99.000000</td>\n",
       "      <td>2.000000</td>\n",
       "      <td>67.100000</td>\n",
       "      <td>2.420000</td>\n",
       "      <td>38.000000</td>\n",
       "      <td>1.000000</td>\n",
       "    </tr>\n",
       "  </tbody>\n",
       "</table>\n",
       "</div>"
      ],
      "text/plain": [
       "       Pregnancies    Glucose  BloodPressure  SkinThickness    Insulin  \\\n",
       "count   768.000000 768.000000     768.000000     768.000000 768.000000   \n",
       "mean      3.974095 119.678802      68.895389      20.594471   0.302083   \n",
       "std       3.417228  32.088859      19.393614      15.728370   0.604111   \n",
       "min       0.000000   0.000000       0.000000       0.000000   0.000000   \n",
       "25%       1.000000  99.000000      62.000000       0.000000   0.000000   \n",
       "50%       3.000000 115.000000      72.000000      23.000000   0.000000   \n",
       "75%       6.437409 139.000000      80.000000      32.000000   0.000000   \n",
       "max      17.000000 199.000000     122.000000      99.000000   2.000000   \n",
       "\n",
       "             BMI  DiabetesPedigreeFunction        Age    Outcome  \n",
       "count 768.000000                768.000000 768.000000 768.000000  \n",
       "mean   31.750544                  0.471876  10.888393   0.348958  \n",
       "std     8.262013                  0.331329  14.451596   0.476951  \n",
       "min     0.000000                  0.078000   0.000000   0.000000  \n",
       "25%    27.275000                  0.243750   0.000000   0.000000  \n",
       "50%    32.000000                  0.372500   2.000000   0.000000  \n",
       "75%    36.425000                  0.626250  28.000000   1.000000  \n",
       "max    67.100000                  2.420000  38.000000   1.000000  "
      ]
     },
     "execution_count": 13,
     "metadata": {},
     "output_type": "execute_result"
    }
   ],
   "source": [
    "mask1 = (df.Insulin >= 140) & (df.Insulin <= 240)\n",
    "mask2  = (df.Insulin >=27) & (df.Insulin <= 38)\n",
    "df.loc[df.Insulin < 140, 'Insulin'] = 0\n",
    "df.loc[mask1, 'Insulin'] = 1\n",
    "df.loc[df.Insulin > 240, 'Insulin'] = 2\n",
    "df.loc[df.Age < 27, 'Age'] = 0\n",
    "df.loc[mask2, 'Age'] = 1\n",
    "df.loc[df.Age > 38, 'Age'] = 2\n",
    "df.describe()"
   ]
  },
  {
   "cell_type": "markdown",
   "metadata": {},
   "source": [
    "<a id='1'></a>\n",
    "# Approach 1 (Using PCA)"
   ]
  },
  {
   "cell_type": "markdown",
   "metadata": {},
   "source": [
    "<a id='i_eda'></a>\n",
    "### Exploratory Data Analysis"
   ]
  },
  {
   "cell_type": "code",
   "execution_count": null,
   "metadata": {},
   "outputs": [],
   "source": [
    "plot = scatter_matrix(df, alpha=0.2, figsize=(20, 20))"
   ]
  },
  {
   "cell_type": "markdown",
   "metadata": {},
   "source": [
    "From the scatter matrix, we can infer that there is some linear relationship between Insulin and Glucose as well as BMI and SkinThickness. To remove redundant information from the dataset, we applied Principal Component Analysis to decrease the number of features to 7"
   ]
  },
  {
   "cell_type": "markdown",
   "metadata": {},
   "source": [
    "<a id='1_pca'></a>\n",
    "### Principal Component Analysis (PCA)"
   ]
  },
  {
   "cell_type": "code",
   "execution_count": null,
   "metadata": {},
   "outputs": [],
   "source": [
    "x = df.loc[:, features].values\n",
    "y = df.loc[:,['Outcome']].values\n",
    "x = StandardScaler().fit_transform(x)\n",
    "\n",
    "pca = PCA(n_components=7)\n",
    "principal_components = pca.fit_transform(x)\n",
    "principal_df = pd.DataFrame(data = principal_components, columns = ['principal component 1', 'principal component 2', 'principal component 3', 'principal component 4', 'principal component 5', 'principal component 6', 'principal component 7'])\n",
    "\n",
    "pca_df = pd.concat([principal_df, df[['Outcome']]], axis = 1)"
   ]
  },
  {
   "cell_type": "code",
   "execution_count": null,
   "metadata": {},
   "outputs": [],
   "source": [
    "pca_df.describe()\n",
    "plot = scatter_matrix(pca_df, alpha=0.2, figsize=(15, 15))"
   ]
  },
  {
   "cell_type": "markdown",
   "metadata": {},
   "source": [
    "The new scatter matrix verifies our hypothesis of a linear relationship between some of the features and now all the components have no relation between each other and are independent."
   ]
  },
  {
   "cell_type": "markdown",
   "metadata": {},
   "source": [
    "<a id='1_model'></a>\n",
    "### Model Building"
   ]
  },
  {
   "cell_type": "markdown",
   "metadata": {},
   "source": [
    "The helper function `PCA_split_dataset` is used to shuffle the dataset and split it into training and validation data."
   ]
  },
  {
   "cell_type": "code",
   "execution_count": null,
   "metadata": {},
   "outputs": [],
   "source": [
    "def PCA_split_dataset(pca_df):\n",
    "    pca_df = pca_df.sample(frac=1)\n",
    "    pca_X = pca_df[pca_df.columns[0:7]]\n",
    "    pca_y = pca_df[pca_df.columns[7]] \n",
    "    return train_test_split(pca_X, pca_y, test_size = 0.20)"
   ]
  },
  {
   "cell_type": "markdown",
   "metadata": {},
   "source": [
    "We train the data using multiple algorithm to find the model which gives the best results on this dataset."
   ]
  },
  {
   "cell_type": "markdown",
   "metadata": {},
   "source": [
    "**1. Logistic Regression**"
   ]
  },
  {
   "cell_type": "code",
   "execution_count": null,
   "metadata": {},
   "outputs": [],
   "source": [
    "lr_accuracy = []\n",
    "for i in range(500):\n",
    "    train_X, val_X, train_y, val_y = PCA_split_dataset(pca_df)\n",
    "    model = LogisticRegression(max_iter=2000, solver='lbfgs',random_state=0)\n",
    "    model.fit(train_X, train_y)\n",
    "    accuracy_percent = model.score(val_X, val_y)*100\n",
    "    lr_accuracy.append(accuracy_percent)"
   ]
  },
  {
   "cell_type": "code",
   "execution_count": null,
   "metadata": {},
   "outputs": [],
   "source": [
    "lr_average_accuracy = np.mean(lr_accuracy)\n",
    "print(\"Accuracy for Logistic Regression\\nAverage:\",lr_average_accuracy,\"\\nMaximum:\", max(lr_accuracy),\"\\nMinimum:\", min(lr_accuracy))"
   ]
  },
  {
   "cell_type": "markdown",
   "metadata": {},
   "source": [
    "**2. SVM**"
   ]
  },
  {
   "cell_type": "code",
   "execution_count": null,
   "metadata": {},
   "outputs": [],
   "source": [
    "svm_accuracy = []\n",
    "for i in range(500):\n",
    "    train_X, val_X, train_y, val_y = PCA_split_dataset(pca_df)\n",
    "    model = SVC(kernel='linear',random_state=0)\n",
    "    model.fit(train_X, train_y)\n",
    "    accuracy_percent = model.score(val_X, val_y)*100\n",
    "    svm_accuracy.append(accuracy_percent)"
   ]
  },
  {
   "cell_type": "code",
   "execution_count": null,
   "metadata": {},
   "outputs": [],
   "source": [
    "svm_average_accuracy = np.mean(svm_accuracy)\n",
    "print(\"Accuracy using SVM\\nAverage:\",svm_average_accuracy,\"\\nMaximum:\", max(svm_accuracy),\"\\nMinimum:\", min(svm_accuracy))"
   ]
  },
  {
   "cell_type": "markdown",
   "metadata": {},
   "source": [
    "**3. Naive Bayes**"
   ]
  },
  {
   "cell_type": "code",
   "execution_count": null,
   "metadata": {},
   "outputs": [],
   "source": [
    "nb_accuracy = []\n",
    "for i in range(500):\n",
    "    train_X, val_X, train_y, val_y = PCA_split_dataset(pca_df)\n",
    "    model = GaussianNB()\n",
    "    model.fit(train_X, train_y)\n",
    "    accuracy_percent = model.score(val_X, val_y)*100\n",
    "    nb_accuracy.append(accuracy_percent)"
   ]
  },
  {
   "cell_type": "code",
   "execution_count": null,
   "metadata": {},
   "outputs": [],
   "source": [
    "nb_average_accuracy = np.mean(nb_accuracy)\n",
    "print(\"Accuracy using SVM\\nAverage:\",nb_average_accuracy,\"\\nMaximum:\", max(nb_accuracy),\"\\nMinimum:\", min(nb_accuracy))"
   ]
  },
  {
   "cell_type": "markdown",
   "metadata": {},
   "source": [
    "### Comparison across different models"
   ]
  },
  {
   "cell_type": "code",
   "execution_count": null,
   "metadata": {},
   "outputs": [],
   "source": [
    "print(\"Model\\t\\t\\t Accuracy\")\n",
    "print(\"Logistic Regression\\t\",lr_average_accuracy)\n",
    "print(\"SVM\\t\\t\\t\",svm_average_accuracy)\n",
    "print(\"Naive Bayes\\t\\t\",nb_average_accuracy)"
   ]
  },
  {
   "cell_type": "markdown",
   "metadata": {},
   "source": [
    "<a id='2'></a>\n",
    "## Approach 2"
   ]
  },
  {
   "cell_type": "markdown",
   "metadata": {},
   "source": [
    "**Helper Function -** The function `regress_zero_values` implements Deterministic Regression Imputation for two linearly dependent features, where the `target` contains the values we're imputing. This is done using linear regression on the `feature` and `target` variables."
   ]
  },
  {
   "cell_type": "code",
   "execution_count": null,
   "metadata": {},
   "outputs": [],
   "source": [
    "def regress_zero_values(df, feature, target):\n",
    "    zero_target_data = df[ df[target] == 0 ]\n",
    "    non_zero_target_data = df[ df[target] != 0]\n",
    "\n",
    "    train_X = non_zero_target_data[feature].values.reshape(-1,1)\n",
    "    train_y = non_zero_target_data[target].values.reshape(-1,1)\n",
    "    val_X = zero_target_data[feature].values.reshape(-1,1)\n",
    "\n",
    "    model = LinearRegression()\n",
    "    model.fit(train_X, train_y)\n",
    "    predicted_y = model.predict(val_X)\n",
    "\n",
    "    j = 0\n",
    "    for i in df.index:\n",
    "        if df.at[i, target] == 0:\n",
    "            df.at[i, target] = predicted_y[j][0]\n",
    "            j+=1"
   ]
  },
  {
   "cell_type": "markdown",
   "metadata": {},
   "source": [
    "<a id='2_eda'></a>\n",
    "### Exploratory Data Analysis"
   ]
  },
  {
   "cell_type": "code",
   "execution_count": null,
   "metadata": {},
   "outputs": [],
   "source": [
    "plot = df.plot(x='SkinThickness', y='BMI', style='.')\n",
    "y_label = plot.set_ylabel('BMI')"
   ]
  },
  {
   "cell_type": "markdown",
   "metadata": {},
   "source": [
    "From the plot above, we can infer two things: \n",
    "    1. There is a linear relationship between SkinThickness and BMI. \n",
    "    2. A lot of SkinThickness values are zero but it is not possible for a person's skin thickness to be zero. \n",
    "<br>Hence we use the `regress_zero_values` helper function to impute the zero values of Insulin."
   ]
  },
  {
   "cell_type": "code",
   "execution_count": null,
   "metadata": {},
   "outputs": [],
   "source": [
    "regress_zero_values(df, 'BMI', 'SkinThickness')"
   ]
  },
  {
   "cell_type": "code",
   "execution_count": null,
   "metadata": {},
   "outputs": [],
   "source": [
    "plot = df.plot(x='SkinThickness', y='BMI', style='.')\n",
    "y_label = plot.set_ylabel('BMI')"
   ]
  },
  {
   "cell_type": "markdown",
   "metadata": {},
   "source": [
    "Hence zero values are imputed for SkinThickness"
   ]
  },
  {
   "cell_type": "code",
   "execution_count": null,
   "metadata": {},
   "outputs": [],
   "source": [
    "plot = df.plot(x='Insulin', y='Glucose', style='.')\n",
    "y_label = plot.set_ylabel('Glucose')"
   ]
  },
  {
   "cell_type": "markdown",
   "metadata": {},
   "source": [
    "From the plot above, we can infer two things: \n",
    "    1. There is a linear relationship between Insulin and Glucose. \n",
    "    2. A lot of insulin values are zero but it is not possible for a person's insulin level to fall below 16 mIU/L. \n",
    "<br>Hence we use the `regress_zero_values` helper function to impute the zero values of Insulin."
   ]
  },
  {
   "cell_type": "code",
   "execution_count": null,
   "metadata": {},
   "outputs": [],
   "source": [
    "regress_zero_values(df, 'Glucose', 'Insulin')"
   ]
  },
  {
   "cell_type": "code",
   "execution_count": null,
   "metadata": {},
   "outputs": [],
   "source": [
    "plot = df.plot(x='Insulin', y='Glucose', style='.')\n",
    "y_label = plot.set_ylabel('Glucose')"
   ]
  },
  {
   "cell_type": "markdown",
   "metadata": {},
   "source": [
    "Hence zero values are imputed for Insulin"
   ]
  },
  {
   "cell_type": "markdown",
   "metadata": {},
   "source": [
    "Normalizing data so that scale of certain features such as glucose, blood pressure and insulin do not skew the model."
   ]
  },
  {
   "cell_type": "code",
   "execution_count": null,
   "metadata": {},
   "outputs": [],
   "source": [
    "for feature in features:\n",
    "    df[feature] = (df[feature] - df[feature].mean())/(df[feature].std())\n",
    "df.describe()"
   ]
  },
  {
   "cell_type": "markdown",
   "metadata": {},
   "source": [
    "<a id='2_model'></a>\n",
    "### Model Building"
   ]
  },
  {
   "cell_type": "markdown",
   "metadata": {},
   "source": [
    "This helper function is used to shuffle the dataset and split it into training and validation data."
   ]
  },
  {
   "cell_type": "code",
   "execution_count": null,
   "metadata": {},
   "outputs": [],
   "source": [
    "def split_dataset(df):\n",
    "    df = df.sample(frac=1)\n",
    "    X = df[df.columns[0:8]]\n",
    "    y = df[df.columns[8]] \n",
    "    return train_test_split(X, y, test_size = 0.20)"
   ]
  },
  {
   "cell_type": "markdown",
   "metadata": {},
   "source": [
    "We train the data using multiple algorithm to find the model which gives the best results on this dataset."
   ]
  },
  {
   "cell_type": "markdown",
   "metadata": {},
   "source": [
    "**1. Logistic Regression**"
   ]
  },
  {
   "cell_type": "code",
   "execution_count": null,
   "metadata": {},
   "outputs": [],
   "source": [
    "lr_accuracy = []\n",
    "for i in range(500):\n",
    "    train_X, val_X, train_y, val_y = split_dataset(df)\n",
    "    model = LogisticRegression(max_iter=2000, solver='lbfgs',random_state=0)\n",
    "    model.fit(train_X, train_y)\n",
    "    accuracy_percent = model.score(val_X, val_y)*100\n",
    "    lr_accuracy.append(accuracy_percent)"
   ]
  },
  {
   "cell_type": "code",
   "execution_count": null,
   "metadata": {},
   "outputs": [],
   "source": [
    "lr_average_accuracy = np.mean(lr_accuracy)\n",
    "print(\"Accuracy for Logistic Regression\\nAverage:\",lr_average_accuracy,\"\\nMaximum:\", max(lr_accuracy),\"\\nMinimum:\", min(lr_accuracy))"
   ]
  },
  {
   "cell_type": "markdown",
   "metadata": {},
   "source": [
    "**2. SVM**"
   ]
  },
  {
   "cell_type": "code",
   "execution_count": null,
   "metadata": {},
   "outputs": [],
   "source": [
    "svm_accuracy = []\n",
    "for i in range(500):\n",
    "    train_X, val_X, train_y, val_y = split_dataset(df)\n",
    "    model = SVC(kernel='linear',random_state=0)\n",
    "    model.fit(train_X, train_y)\n",
    "    accuracy_percent = model.score(val_X, val_y)*100\n",
    "    svm_accuracy.append(accuracy_percent)"
   ]
  },
  {
   "cell_type": "code",
   "execution_count": null,
   "metadata": {},
   "outputs": [],
   "source": [
    "svm_average_accuracy = np.mean(svm_accuracy)\n",
    "print(\"Accuracy using SVM\\nAverage:\",svm_average_accuracy,\"\\nMaximum:\", max(svm_accuracy),\"\\nMinimum:\", min(svm_accuracy))"
   ]
  },
  {
   "cell_type": "markdown",
   "metadata": {},
   "source": [
    "**3. Naive Bayes**"
   ]
  },
  {
   "cell_type": "code",
   "execution_count": null,
   "metadata": {},
   "outputs": [],
   "source": [
    "nb_accuracy = []\n",
    "for i in range(500):\n",
    "    train_X, val_X, train_y, val_y = split_dataset(df)\n",
    "    model = GaussianNB()\n",
    "    model.fit(train_X, train_y)\n",
    "    accuracy_percent = model.score(val_X, val_y)*100\n",
    "    nb_accuracy.append(accuracy_percent)"
   ]
  },
  {
   "cell_type": "code",
   "execution_count": null,
   "metadata": {},
   "outputs": [],
   "source": [
    "nb_average_accuracy = np.mean(nb_accuracy)\n",
    "print(\"Accuracy using SVM\\nAverage:\",nb_average_accuracy,\"\\nMaximum:\", max(nb_accuracy),\"\\nMinimum:\", min(nb_accuracy))"
   ]
  },
  {
   "cell_type": "markdown",
   "metadata": {},
   "source": [
    "### Comparison across different models"
   ]
  },
  {
   "cell_type": "code",
   "execution_count": null,
   "metadata": {},
   "outputs": [],
   "source": [
    "print(\"Model\\t\\t\\t Accuracy\")\n",
    "print(\"Logistic Regression\\t\",lr_average_accuracy)\n",
    "print(\"SVM\\t\\t\\t\",svm_average_accuracy)\n",
    "print(\"Naive Bayes\\t\\t\",nb_average_accuracy)"
   ]
  }
 ],
 "metadata": {
  "kernelspec": {
   "display_name": "Python 3",
   "language": "python",
   "name": "python3"
  },
  "language_info": {
   "codemirror_mode": {
    "name": "ipython",
    "version": 3
   },
   "file_extension": ".py",
   "mimetype": "text/x-python",
   "name": "python",
   "nbconvert_exporter": "python",
   "pygments_lexer": "ipython3",
   "version": "3.6.8"
  }
 },
 "nbformat": 4,
 "nbformat_minor": 2
}
