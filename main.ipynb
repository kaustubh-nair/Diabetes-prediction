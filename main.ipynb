{
 "cells": [
  {
   "cell_type": "code",
   "execution_count": 1,
   "metadata": {},
   "outputs": [],
   "source": [
    "import pandas as pd\n",
    "import numpy as np\n",
    "import matplotlib.pyplot as pyplot\n",
    "%matplotlib inline\n",
    "from pandas.plotting import scatter_matrix\n",
    "from sklearn.utils import shuffle\n",
    "from sklearn.linear_model import LogisticRegression, LinearRegression\n",
    "from sklearn.model_selection import train_test_split "
   ]
  },
  {
   "cell_type": "code",
   "execution_count": 2,
   "metadata": {},
   "outputs": [],
   "source": [
    "df = pd.read_csv(\"Pima_Indian_diabetes.csv\")"
   ]
  },
  {
   "cell_type": "code",
   "execution_count": 3,
   "metadata": {},
   "outputs": [],
   "source": [
    "df.describe()\n",
    "df = shuffle(df)"
   ]
  },
  {
   "cell_type": "code",
   "execution_count": 4,
   "metadata": {},
   "outputs": [],
   "source": [
    "features = ['Pregnancies','Glucose', 'BloodPressure','SkinThickness', 'Insulin', 'BMI', 'DiabetesPedigreeFunction', 'Age']"
   ]
  },
  {
   "cell_type": "code",
   "execution_count": 5,
   "metadata": {},
   "outputs": [],
   "source": [
    "for feature in features:\n",
    "    df[feature].fillna(value=df[feature].mean(), inplace=True)"
   ]
  },
  {
   "cell_type": "code",
   "execution_count": 6,
   "metadata": {},
   "outputs": [
    {
     "data": {
      "text/html": [
       "<div>\n",
       "<style scoped>\n",
       "    .dataframe tbody tr th:only-of-type {\n",
       "        vertical-align: middle;\n",
       "    }\n",
       "\n",
       "    .dataframe tbody tr th {\n",
       "        vertical-align: top;\n",
       "    }\n",
       "\n",
       "    .dataframe thead th {\n",
       "        text-align: right;\n",
       "    }\n",
       "</style>\n",
       "<table border=\"1\" class=\"dataframe\">\n",
       "  <thead>\n",
       "    <tr style=\"text-align: right;\">\n",
       "      <th></th>\n",
       "      <th>Pregnancies</th>\n",
       "      <th>Glucose</th>\n",
       "      <th>BloodPressure</th>\n",
       "      <th>SkinThickness</th>\n",
       "      <th>Insulin</th>\n",
       "      <th>BMI</th>\n",
       "      <th>DiabetesPedigreeFunction</th>\n",
       "      <th>Age</th>\n",
       "      <th>Outcome</th>\n",
       "    </tr>\n",
       "  </thead>\n",
       "  <tbody>\n",
       "    <tr>\n",
       "      <th>count</th>\n",
       "      <td>768.000000</td>\n",
       "      <td>768.000000</td>\n",
       "      <td>768.000000</td>\n",
       "      <td>768.000000</td>\n",
       "      <td>768.000000</td>\n",
       "      <td>768.000000</td>\n",
       "      <td>768.000000</td>\n",
       "      <td>768.000000</td>\n",
       "      <td>768.000000</td>\n",
       "    </tr>\n",
       "    <tr>\n",
       "      <th>mean</th>\n",
       "      <td>3.866601</td>\n",
       "      <td>119.966097</td>\n",
       "      <td>68.886078</td>\n",
       "      <td>20.309879</td>\n",
       "      <td>79.799479</td>\n",
       "      <td>31.711151</td>\n",
       "      <td>0.471876</td>\n",
       "      <td>33.761336</td>\n",
       "      <td>0.348958</td>\n",
       "    </tr>\n",
       "    <tr>\n",
       "      <th>std</th>\n",
       "      <td>3.420480</td>\n",
       "      <td>32.028277</td>\n",
       "      <td>19.427448</td>\n",
       "      <td>15.743756</td>\n",
       "      <td>115.244002</td>\n",
       "      <td>8.483295</td>\n",
       "      <td>0.331329</td>\n",
       "      <td>12.144139</td>\n",
       "      <td>0.476951</td>\n",
       "    </tr>\n",
       "    <tr>\n",
       "      <th>min</th>\n",
       "      <td>-5.412815</td>\n",
       "      <td>0.000000</td>\n",
       "      <td>-3.496455</td>\n",
       "      <td>-11.945520</td>\n",
       "      <td>0.000000</td>\n",
       "      <td>-16.288921</td>\n",
       "      <td>0.078000</td>\n",
       "      <td>21.000000</td>\n",
       "      <td>0.000000</td>\n",
       "    </tr>\n",
       "    <tr>\n",
       "      <th>25%</th>\n",
       "      <td>1.000000</td>\n",
       "      <td>99.000000</td>\n",
       "      <td>62.000000</td>\n",
       "      <td>0.000000</td>\n",
       "      <td>0.000000</td>\n",
       "      <td>27.275000</td>\n",
       "      <td>0.243750</td>\n",
       "      <td>24.000000</td>\n",
       "      <td>0.000000</td>\n",
       "    </tr>\n",
       "    <tr>\n",
       "      <th>50%</th>\n",
       "      <td>3.000000</td>\n",
       "      <td>117.000000</td>\n",
       "      <td>72.000000</td>\n",
       "      <td>22.000000</td>\n",
       "      <td>30.500000</td>\n",
       "      <td>32.000000</td>\n",
       "      <td>0.372500</td>\n",
       "      <td>30.000000</td>\n",
       "      <td>0.000000</td>\n",
       "    </tr>\n",
       "    <tr>\n",
       "      <th>75%</th>\n",
       "      <td>6.000000</td>\n",
       "      <td>139.000000</td>\n",
       "      <td>80.000000</td>\n",
       "      <td>32.000000</td>\n",
       "      <td>127.250000</td>\n",
       "      <td>36.425000</td>\n",
       "      <td>0.626250</td>\n",
       "      <td>41.000000</td>\n",
       "      <td>1.000000</td>\n",
       "    </tr>\n",
       "    <tr>\n",
       "      <th>max</th>\n",
       "      <td>17.000000</td>\n",
       "      <td>199.000000</td>\n",
       "      <td>122.000000</td>\n",
       "      <td>99.000000</td>\n",
       "      <td>846.000000</td>\n",
       "      <td>67.100000</td>\n",
       "      <td>2.420000</td>\n",
       "      <td>81.000000</td>\n",
       "      <td>1.000000</td>\n",
       "    </tr>\n",
       "  </tbody>\n",
       "</table>\n",
       "</div>"
      ],
      "text/plain": [
       "       Pregnancies     Glucose  BloodPressure  SkinThickness     Insulin  \\\n",
       "count   768.000000  768.000000     768.000000     768.000000  768.000000   \n",
       "mean      3.866601  119.966097      68.886078      20.309879   79.799479   \n",
       "std       3.420480   32.028277      19.427448      15.743756  115.244002   \n",
       "min      -5.412815    0.000000      -3.496455     -11.945520    0.000000   \n",
       "25%       1.000000   99.000000      62.000000       0.000000    0.000000   \n",
       "50%       3.000000  117.000000      72.000000      22.000000   30.500000   \n",
       "75%       6.000000  139.000000      80.000000      32.000000  127.250000   \n",
       "max      17.000000  199.000000     122.000000      99.000000  846.000000   \n",
       "\n",
       "              BMI  DiabetesPedigreeFunction         Age     Outcome  \n",
       "count  768.000000                768.000000  768.000000  768.000000  \n",
       "mean    31.711151                  0.471876   33.761336    0.348958  \n",
       "std      8.483295                  0.331329   12.144139    0.476951  \n",
       "min    -16.288921                  0.078000   21.000000    0.000000  \n",
       "25%     27.275000                  0.243750   24.000000    0.000000  \n",
       "50%     32.000000                  0.372500   30.000000    0.000000  \n",
       "75%     36.425000                  0.626250   41.000000    1.000000  \n",
       "max     67.100000                  2.420000   81.000000    1.000000  "
      ]
     },
     "execution_count": 6,
     "metadata": {},
     "output_type": "execute_result"
    }
   ],
   "source": [
    "df.describe()"
<<<<<<< HEAD
=======
   ]
  },
  {
   "cell_type": "code",
   "execution_count": 4,
   "metadata": {},
   "outputs": [],
   "source": [
    "features = ['Pregnancies','Glucose', 'BloodPressure','SkinThickness', 'Insulin', 'BMI', 'DiabetesPedigreeFunction', 'Age']"
>>>>>>> 17bbdf589b3ce98321ae25055a352759b11884b6
   ]
  },
  {
   "cell_type": "code",
   "execution_count": 7,
   "metadata": {},
   "outputs": [],
   "source": [
    "for feature in features:\n",
<<<<<<< HEAD
    "    df.loc[df[feature] < 0, feature] = 0"
=======
    "    df[feature].fillna(value=df[feature].mean(), inplace=True)"
>>>>>>> 17bbdf589b3ce98321ae25055a352759b11884b6
   ]
  },
  {
   "cell_type": "code",
<<<<<<< HEAD
   "execution_count": 8,
=======
   "execution_count": 6,
>>>>>>> 17bbdf589b3ce98321ae25055a352759b11884b6
   "metadata": {},
   "outputs": [
    {
     "data": {
      "text/html": [
       "<div>\n",
       "<style scoped>\n",
       "    .dataframe tbody tr th:only-of-type {\n",
       "        vertical-align: middle;\n",
       "    }\n",
       "\n",
       "    .dataframe tbody tr th {\n",
       "        vertical-align: top;\n",
       "    }\n",
       "\n",
       "    .dataframe thead th {\n",
       "        text-align: right;\n",
       "    }\n",
       "</style>\n",
       "<table border=\"1\" class=\"dataframe\">\n",
       "  <thead>\n",
       "    <tr style=\"text-align: right;\">\n",
       "      <th></th>\n",
       "      <th>Pregnancies</th>\n",
       "      <th>Glucose</th>\n",
       "      <th>BloodPressure</th>\n",
       "      <th>SkinThickness</th>\n",
       "      <th>Insulin</th>\n",
       "      <th>BMI</th>\n",
       "      <th>DiabetesPedigreeFunction</th>\n",
       "      <th>Age</th>\n",
       "      <th>Outcome</th>\n",
       "    </tr>\n",
       "  </thead>\n",
       "  <tbody>\n",
       "    <tr>\n",
       "      <th>count</th>\n",
       "      <td>768.000000</td>\n",
       "      <td>768.000000</td>\n",
       "      <td>768.000000</td>\n",
       "      <td>768.000000</td>\n",
       "      <td>768.000000</td>\n",
       "      <td>768.000000</td>\n",
       "      <td>768.000000</td>\n",
       "      <td>768.000000</td>\n",
       "      <td>768.000000</td>\n",
       "    </tr>\n",
       "    <tr>\n",
       "      <th>mean</th>\n",
       "      <td>3.885689</td>\n",
       "      <td>119.966097</td>\n",
<<<<<<< HEAD
       "      <td>68.895389</td>\n",
       "      <td>20.357580</td>\n",
       "      <td>79.799479</td>\n",
       "      <td>31.760002</td>\n",
=======
       "      <td>68.886078</td>\n",
       "      <td>20.309879</td>\n",
       "      <td>79.799479</td>\n",
       "      <td>31.711151</td>\n",
>>>>>>> 17bbdf589b3ce98321ae25055a352759b11884b6
       "      <td>0.471876</td>\n",
       "      <td>33.761336</td>\n",
       "      <td>0.348958</td>\n",
       "    </tr>\n",
       "    <tr>\n",
       "      <th>std</th>\n",
       "      <td>3.384891</td>\n",
       "      <td>32.028277</td>\n",
<<<<<<< HEAD
       "      <td>19.393614</td>\n",
       "      <td>15.668404</td>\n",
       "      <td>115.244002</td>\n",
       "      <td>8.261584</td>\n",
=======
       "      <td>19.427448</td>\n",
       "      <td>15.743756</td>\n",
       "      <td>115.244002</td>\n",
       "      <td>8.483295</td>\n",
>>>>>>> 17bbdf589b3ce98321ae25055a352759b11884b6
       "      <td>0.331329</td>\n",
       "      <td>12.144139</td>\n",
       "      <td>0.476951</td>\n",
       "    </tr>\n",
       "    <tr>\n",
       "      <th>min</th>\n",
       "      <td>0.000000</td>\n",
<<<<<<< HEAD
       "      <td>0.000000</td>\n",
       "      <td>0.000000</td>\n",
       "      <td>0.000000</td>\n",
       "      <td>0.000000</td>\n",
       "      <td>0.000000</td>\n",
=======
       "      <td>-3.496455</td>\n",
       "      <td>-11.945520</td>\n",
       "      <td>0.000000</td>\n",
       "      <td>-16.288921</td>\n",
>>>>>>> 17bbdf589b3ce98321ae25055a352759b11884b6
       "      <td>0.078000</td>\n",
       "      <td>21.000000</td>\n",
       "      <td>0.000000</td>\n",
       "    </tr>\n",
       "    <tr>\n",
       "      <th>25%</th>\n",
       "      <td>1.000000</td>\n",
       "      <td>99.000000</td>\n",
       "      <td>62.000000</td>\n",
       "      <td>0.000000</td>\n",
       "      <td>0.000000</td>\n",
       "      <td>27.275000</td>\n",
       "      <td>0.243750</td>\n",
       "      <td>24.000000</td>\n",
       "      <td>0.000000</td>\n",
       "    </tr>\n",
       "    <tr>\n",
       "      <th>50%</th>\n",
       "      <td>3.000000</td>\n",
       "      <td>117.000000</td>\n",
       "      <td>72.000000</td>\n",
       "      <td>22.000000</td>\n",
       "      <td>30.500000</td>\n",
       "      <td>32.000000</td>\n",
       "      <td>0.372500</td>\n",
       "      <td>30.000000</td>\n",
       "      <td>0.000000</td>\n",
       "    </tr>\n",
       "    <tr>\n",
       "      <th>75%</th>\n",
       "      <td>6.000000</td>\n",
       "      <td>139.000000</td>\n",
       "      <td>80.000000</td>\n",
       "      <td>32.000000</td>\n",
       "      <td>127.250000</td>\n",
       "      <td>36.425000</td>\n",
       "      <td>0.626250</td>\n",
       "      <td>41.000000</td>\n",
       "      <td>1.000000</td>\n",
       "    </tr>\n",
       "    <tr>\n",
       "      <th>max</th>\n",
       "      <td>17.000000</td>\n",
       "      <td>199.000000</td>\n",
       "      <td>122.000000</td>\n",
       "      <td>99.000000</td>\n",
       "      <td>846.000000</td>\n",
       "      <td>67.100000</td>\n",
       "      <td>2.420000</td>\n",
       "      <td>81.000000</td>\n",
       "      <td>1.000000</td>\n",
       "    </tr>\n",
       "  </tbody>\n",
       "</table>\n",
       "</div>"
      ],
      "text/plain": [
       "       Pregnancies     Glucose  BloodPressure  SkinThickness     Insulin  \\\n",
       "count   768.000000  768.000000     768.000000     768.000000  768.000000   \n",
<<<<<<< HEAD
       "mean      3.885689  119.966097      68.895389      20.357580   79.799479   \n",
       "std       3.384891   32.028277      19.393614      15.668404  115.244002   \n",
       "min       0.000000    0.000000       0.000000       0.000000    0.000000   \n",
=======
       "mean      3.866601  119.966097      68.886078      20.309879   79.799479   \n",
       "std       3.420480   32.028277      19.427448      15.743756  115.244002   \n",
       "min      -5.412815    0.000000      -3.496455     -11.945520    0.000000   \n",
>>>>>>> 17bbdf589b3ce98321ae25055a352759b11884b6
       "25%       1.000000   99.000000      62.000000       0.000000    0.000000   \n",
       "50%       3.000000  117.000000      72.000000      22.000000   30.500000   \n",
       "75%       6.000000  139.000000      80.000000      32.000000  127.250000   \n",
       "max      17.000000  199.000000     122.000000      99.000000  846.000000   \n",
       "\n",
       "              BMI  DiabetesPedigreeFunction         Age     Outcome  \n",
       "count  768.000000                768.000000  768.000000  768.000000  \n",
<<<<<<< HEAD
       "mean    31.760002                  0.471876   33.761336    0.348958  \n",
       "std      8.261584                  0.331329   12.144139    0.476951  \n",
       "min      0.000000                  0.078000   21.000000    0.000000  \n",
=======
       "mean    31.711151                  0.471876   33.761336    0.348958  \n",
       "std      8.483295                  0.331329   12.144139    0.476951  \n",
       "min    -16.288921                  0.078000   21.000000    0.000000  \n",
>>>>>>> 17bbdf589b3ce98321ae25055a352759b11884b6
       "25%     27.275000                  0.243750   24.000000    0.000000  \n",
       "50%     32.000000                  0.372500   30.000000    0.000000  \n",
       "75%     36.425000                  0.626250   41.000000    1.000000  \n",
       "max     67.100000                  2.420000   81.000000    1.000000  "
      ]
     },
<<<<<<< HEAD
     "execution_count": 8,
=======
     "execution_count": 6,
>>>>>>> 17bbdf589b3ce98321ae25055a352759b11884b6
     "metadata": {},
     "output_type": "execute_result"
    }
   ],
   "source": [
    "df.describe()"
   ]
  },
  {
   "cell_type": "code",
<<<<<<< HEAD
   "execution_count": 9,
=======
   "execution_count": 7,
   "metadata": {},
   "outputs": [],
   "source": [
    "for feature in features:\n",
    "    df.loc[df[feature] < 0, feature] = 0"
   ]
  },
  {
   "cell_type": "code",
   "execution_count": 8,
>>>>>>> 17bbdf589b3ce98321ae25055a352759b11884b6
   "metadata": {},
   "outputs": [
    {
     "data": {
      "text/html": [
       "<div>\n",
       "<style scoped>\n",
       "    .dataframe tbody tr th:only-of-type {\n",
       "        vertical-align: middle;\n",
       "    }\n",
       "\n",
       "    .dataframe tbody tr th {\n",
       "        vertical-align: top;\n",
       "    }\n",
       "\n",
       "    .dataframe thead th {\n",
       "        text-align: right;\n",
       "    }\n",
       "</style>\n",
       "<table border=\"1\" class=\"dataframe\">\n",
       "  <thead>\n",
       "    <tr style=\"text-align: right;\">\n",
       "      <th></th>\n",
       "      <th>Pregnancies</th>\n",
       "      <th>Glucose</th>\n",
       "      <th>BloodPressure</th>\n",
       "      <th>SkinThickness</th>\n",
       "      <th>Insulin</th>\n",
       "      <th>BMI</th>\n",
       "      <th>DiabetesPedigreeFunction</th>\n",
       "      <th>Age</th>\n",
       "      <th>Outcome</th>\n",
       "    </tr>\n",
       "  </thead>\n",
       "  <tbody>\n",
       "    <tr>\n",
       "      <th>count</th>\n",
       "      <td>768.000000</td>\n",
       "      <td>768.000000</td>\n",
       "      <td>768.000000</td>\n",
       "      <td>768.000000</td>\n",
       "      <td>768.000000</td>\n",
       "      <td>768.000000</td>\n",
       "      <td>768.000000</td>\n",
       "      <td>768.000000</td>\n",
       "      <td>768.000000</td>\n",
       "    </tr>\n",
       "    <tr>\n",
       "      <th>mean</th>\n",
       "      <td>3.885689</td>\n",
       "      <td>119.966097</td>\n",
       "      <td>68.895389</td>\n",
       "      <td>20.357580</td>\n",
       "      <td>79.799479</td>\n",
       "      <td>31.760002</td>\n",
       "      <td>0.471876</td>\n",
       "      <td>33.761336</td>\n",
       "      <td>0.348958</td>\n",
       "    </tr>\n",
       "    <tr>\n",
       "      <th>std</th>\n",
       "      <td>3.384891</td>\n",
       "      <td>32.028277</td>\n",
       "      <td>19.393614</td>\n",
       "      <td>15.668404</td>\n",
       "      <td>115.244002</td>\n",
       "      <td>8.261584</td>\n",
       "      <td>0.331329</td>\n",
       "      <td>12.144139</td>\n",
       "      <td>0.476951</td>\n",
       "    </tr>\n",
       "    <tr>\n",
       "      <th>min</th>\n",
       "      <td>0.000000</td>\n",
       "      <td>0.000000</td>\n",
       "      <td>0.000000</td>\n",
       "      <td>0.000000</td>\n",
       "      <td>0.000000</td>\n",
       "      <td>0.000000</td>\n",
       "      <td>0.078000</td>\n",
       "      <td>21.000000</td>\n",
       "      <td>0.000000</td>\n",
       "    </tr>\n",
       "    <tr>\n",
       "      <th>25%</th>\n",
       "      <td>1.000000</td>\n",
       "      <td>99.000000</td>\n",
       "      <td>62.000000</td>\n",
       "      <td>0.000000</td>\n",
       "      <td>0.000000</td>\n",
       "      <td>27.275000</td>\n",
       "      <td>0.243750</td>\n",
       "      <td>24.000000</td>\n",
       "      <td>0.000000</td>\n",
       "    </tr>\n",
       "    <tr>\n",
       "      <th>50%</th>\n",
       "      <td>3.000000</td>\n",
       "      <td>117.000000</td>\n",
       "      <td>72.000000</td>\n",
       "      <td>22.000000</td>\n",
       "      <td>30.500000</td>\n",
       "      <td>32.000000</td>\n",
       "      <td>0.372500</td>\n",
       "      <td>30.000000</td>\n",
       "      <td>0.000000</td>\n",
       "    </tr>\n",
       "    <tr>\n",
       "      <th>75%</th>\n",
       "      <td>6.000000</td>\n",
       "      <td>139.000000</td>\n",
       "      <td>80.000000</td>\n",
       "      <td>32.000000</td>\n",
       "      <td>127.250000</td>\n",
       "      <td>36.425000</td>\n",
       "      <td>0.626250</td>\n",
       "      <td>41.000000</td>\n",
       "      <td>1.000000</td>\n",
       "    </tr>\n",
       "    <tr>\n",
       "      <th>max</th>\n",
       "      <td>17.000000</td>\n",
       "      <td>199.000000</td>\n",
       "      <td>122.000000</td>\n",
       "      <td>99.000000</td>\n",
       "      <td>846.000000</td>\n",
       "      <td>67.100000</td>\n",
       "      <td>2.420000</td>\n",
       "      <td>81.000000</td>\n",
       "      <td>1.000000</td>\n",
       "    </tr>\n",
       "  </tbody>\n",
       "</table>\n",
       "</div>"
      ],
      "text/plain": [
       "       Pregnancies     Glucose  BloodPressure  SkinThickness     Insulin  \\\n",
       "count   768.000000  768.000000     768.000000     768.000000  768.000000   \n",
       "mean      3.885689  119.966097      68.895389      20.357580   79.799479   \n",
       "std       3.384891   32.028277      19.393614      15.668404  115.244002   \n",
       "min       0.000000    0.000000       0.000000       0.000000    0.000000   \n",
       "25%       1.000000   99.000000      62.000000       0.000000    0.000000   \n",
       "50%       3.000000  117.000000      72.000000      22.000000   30.500000   \n",
       "75%       6.000000  139.000000      80.000000      32.000000  127.250000   \n",
       "max      17.000000  199.000000     122.000000      99.000000  846.000000   \n",
       "\n",
       "              BMI  DiabetesPedigreeFunction         Age     Outcome  \n",
       "count  768.000000                768.000000  768.000000  768.000000  \n",
       "mean    31.760002                  0.471876   33.761336    0.348958  \n",
       "std      8.261584                  0.331329   12.144139    0.476951  \n",
       "min      0.000000                  0.078000   21.000000    0.000000  \n",
       "25%     27.275000                  0.243750   24.000000    0.000000  \n",
       "50%     32.000000                  0.372500   30.000000    0.000000  \n",
       "75%     36.425000                  0.626250   41.000000    1.000000  \n",
       "max     67.100000                  2.420000   81.000000    1.000000  "
      ]
     },
     "execution_count": 8,
     "metadata": {},
     "output_type": "execute_result"
    },
    {
     "data": {
      "image/png": "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\n",
      "text/plain": [
       "<Figure size 432x288 with 1 Axes>"
      ]
     },
     "metadata": {
      "needs_background": "light"
     },
     "output_type": "display_data"
    }
   ],
   "source": [
    "df.hist(column='DiabetesPedigreeFunction')\n",
    "#df.insert(8, \"customeFeature\", df.Age*df.DiabetesPedigreeFunction, True)\n",
    "features = ['Pregnancies','Glucose', 'BloodPressure','SkinThickness', 'Insulin', 'BMI', 'DiabetesPedigreeFunction', 'Age']\n",
    "df.describe()"
   ]
  },
  {
   "cell_type": "code",
   "execution_count": 9,
   "metadata": {},
   "outputs": [],
   "source": [
    "df.loc[df.Insulin >250, 'Insulin'] = 250\n",
    "df.loc[df.Pregnancies > 3, 'Pregnancies'] = 3\n",
    "df.Pregnancies = df.Pregnancies.astype('int')\n",
    "#df.loc[df.SkinThickness > 60, 'SkinThickness'] = 60\n",
    "#df.loc[df.BloodPressure == 0, 'BloodPressure'] = 28\n",
    "\n",
    "\n",
    "\n"
   ]
  },
  {
   "cell_type": "code",
   "execution_count": 10,
   "metadata": {},
   "outputs": [
    {
     "data": {
      "text/plain": [
       "<matplotlib.axes._subplots.AxesSubplot at 0x10e65e208>"
      ]
     },
     "execution_count": 10,
     "metadata": {},
     "output_type": "execute_result"
    },
    {
     "data": {
      "image/png": "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\n",
      "text/plain": [
       "<Figure size 432x288 with 1 Axes>"
      ]
     },
     "metadata": {
      "needs_background": "light"
     },
     "output_type": "display_data"
    }
   ],
   "source": [
    "df.isnull().sum()\n",
    "df.plot(x='SkinThickness', y='BMI', style='.')"
   ]
  },
  {
   "cell_type": "code",
   "execution_count": 11,
   "metadata": {},
   "outputs": [],
   "source": [
    "zero_insulin_data = df[ df.Insulin == 0 ]\n",
    "non_zero_insulin_data = df[ df.Insulin != 0]\n",
    "\n",
    "train_X = non_zero_insulin_data['Glucose'].values.reshape(-1,1)\n",
    "train_y = non_zero_insulin_data['Insulin'].values.reshape(-1,1)\n",
    "val_X = zero_insulin_data['Glucose'].values.reshape(-1,1)\n",
    "\n",
    "model = LinearRegression()\n",
    "model.fit(train_X, train_y)\n",
    "predicted_y = model.predict(val_X)\n",
    "\n",
    "j = 0\n",
    "for i in df.index:\n",
    "    if df.at[i, 'Insulin'] == 0:\n",
    "        df.at[i, 'Insulin'] = predicted_y[j][0]\n",
    "        j+=1\n"
   ]
  },
  {
   "cell_type": "code",
   "execution_count": 12,
   "metadata": {},
   "outputs": [],
   "source": [
    "zero_SkinThickness_data = df[ df.SkinThickness == 0 ]\n",
    "non_zero_SkinThickness_data = df[ df.SkinThickness != 0]\n",
    "\n",
    "train_X = non_zero_SkinThickness_data['BMI'].values.reshape(-1,1)\n",
    "train_y = non_zero_SkinThickness_data['SkinThickness'].values.reshape(-1,1)\n",
    "val_X = zero_SkinThickness_data['BMI'].values.reshape(-1,1)\n",
    "\n",
    "model = LinearRegression()\n",
    "model.fit(train_X, train_y)\n",
    "predicted_y = model.predict(val_X)\n",
    "\n",
    "j = 0\n",
    "for i in df.index:\n",
    "    if df.at[i, 'SkinThickness'] == 0:\n",
    "        df.at[i, 'SkinThickness'] = predicted_y[j][0]\n",
    "        j+=1\n",
    "\n"
   ]
  },
  {
   "cell_type": "code",
   "execution_count": 18,
   "metadata": {},
   "outputs": [
    {
     "data": {
      "text/plain": [
       "<matplotlib.axes._subplots.AxesSubplot at 0x10e7f36d8>"
      ]
     },
     "execution_count": 18,
     "metadata": {},
     "output_type": "execute_result"
    },
    {
     "data": {
      "image/png": "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\n",
      "text/plain": [
       "<Figure size 432x288 with 1 Axes>"
      ]
     },
     "metadata": {
      "needs_background": "light"
     },
     "output_type": "display_data"
    }
   ],
   "source": [
    "df.plot(x='SkinThickness', y='BMI', style='.')"
   ]
  },
  {
   "cell_type": "code",
   "execution_count": 14,
   "metadata": {},
   "outputs": [
    {
     "data": {
      "text/plain": [
       "array([[<matplotlib.axes._subplots.AxesSubplot object at 0x117a927f0>]],\n",
       "      dtype=object)"
      ]
     },
     "execution_count": 11,
     "metadata": {},
     "output_type": "execute_result"
    },
    {
     "data": {
      "image/png": "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\n",
      "text/plain": [
       "<Figure size 432x288 with 1 Axes>"
      ]
     },
     "metadata": {
      "needs_background": "light"
     },
     "output_type": "display_data"
    }
   ],
   "source": [
    "df.hist(column='BloodPressure')"
   ]
  },
  {
   "cell_type": "code",
   "execution_count": 12,
   "metadata": {},
   "outputs": [
    {
     "data": {
      "text/plain": [
       "<matplotlib.axes._subplots.AxesSubplot at 0x10526b278>"
      ]
     },
     "execution_count": 12,
     "metadata": {},
     "output_type": "execute_result"
    },
    {
     "data": {
      "image/png": "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\n",
      "text/plain": [
       "<Figure size 432x288 with 1 Axes>"
      ]
     },
     "metadata": {
      "needs_background": "light"
     },
     "output_type": "display_data"
    }
   ],
   "source": [
    "df.isnull().sum()\n",
    "df.plot(x='Age', y='Outcome', style='.')"
   ]
  },
  {
   "cell_type": "code",
   "execution_count": 13,
   "metadata": {},
   "outputs": [],
   "source": [
    "# zero_insulin_data = df[ df.Insulin == 0 ]\n",
    "# non_zero_insulin_data = df[ df.Insulin != 0]\n",
    "\n",
    "# train_X = non_zero_insulin_data['Glucose'].values.reshape(-1,1)\n",
    "# train_y = non_zero_insulin_data['Insulin'].values.reshape(-1,1)\n",
    "# val_X = zero_insulin_data['Glucose'].values.reshape(-1,1)\n",
    "\n",
    "# model = LinearRegression()\n",
    "# model.fit(train_X, train_y)\n",
    "# predicted_y = model.predict(val_X)\n",
    "\n",
    "# j = 0\n",
    "# for i in df.index:\n",
    "#     if df.at[i, 'Insulin'] == 0:\n",
    "#         df.at[i, 'Insulin'] = predicted_y[j][0]\n",
    "#         j+=1\n"
   ]
  },
  {
   "cell_type": "code",
   "execution_count": 14,
   "metadata": {},
   "outputs": [],
   "source": [
    "zero_SkinThickness_data = df[ df.SkinThickness == 0 ]\n",
    "non_zero_SkinThickness_data = df[ df.SkinThickness != 0]\n",
    "\n",
    "train_X = non_zero_SkinThickness_data['BMI'].values.reshape(-1,1)\n",
    "train_y = non_zero_SkinThickness_data['SkinThickness'].values.reshape(-1,1)\n",
    "val_X = zero_SkinThickness_data['BMI'].values.reshape(-1,1)\n",
    "\n",
    "model = LinearRegression()\n",
    "model.fit(train_X, train_y)\n",
    "predicted_y = model.predict(val_X)\n",
    "\n",
    "j = 0\n",
    "for i in df.index:\n",
    "    if df.at[i, 'SkinThickness'] == 0:\n",
    "        df.at[i, 'SkinThickness'] = predicted_y[j][0]\n",
    "        j+=1\n",
    "\n"
   ]
  },
  {
   "cell_type": "code",
   "execution_count": null,
   "metadata": {},
   "outputs": [],
   "source": []
  },
  {
   "cell_type": "code",
   "execution_count": 15,
   "metadata": {},
   "outputs": [
    {
     "data": {
      "text/html": [
       "<div>\n",
       "<style scoped>\n",
       "    .dataframe tbody tr th:only-of-type {\n",
       "        vertical-align: middle;\n",
       "    }\n",
       "\n",
       "    .dataframe tbody tr th {\n",
       "        vertical-align: top;\n",
       "    }\n",
       "\n",
       "    .dataframe thead th {\n",
       "        text-align: right;\n",
       "    }\n",
       "</style>\n",
       "<table border=\"1\" class=\"dataframe\">\n",
       "  <thead>\n",
       "    <tr style=\"text-align: right;\">\n",
       "      <th></th>\n",
       "      <th>Pregnancies</th>\n",
       "      <th>Glucose</th>\n",
       "      <th>BloodPressure</th>\n",
       "      <th>SkinThickness</th>\n",
       "      <th>Insulin</th>\n",
       "      <th>BMI</th>\n",
       "      <th>DiabetesPedigreeFunction</th>\n",
       "      <th>Age</th>\n",
       "      <th>Outcome</th>\n",
       "    </tr>\n",
       "  </thead>\n",
       "  <tbody>\n",
       "    <tr>\n",
       "      <th>count</th>\n",
<<<<<<< HEAD
       "      <td>768.000000</td>\n",
=======
       "      <td>7.680000e+02</td>\n",
>>>>>>> 17bbdf589b3ce98321ae25055a352759b11884b6
       "      <td>7.680000e+02</td>\n",
       "      <td>7.680000e+02</td>\n",
       "      <td>7.680000e+02</td>\n",
       "      <td>7.680000e+02</td>\n",
       "      <td>7.680000e+02</td>\n",
       "      <td>7.680000e+02</td>\n",
       "      <td>7.680000e+02</td>\n",
       "      <td>768.000000</td>\n",
       "    </tr>\n",
       "    <tr>\n",
       "      <th>mean</th>\n",
<<<<<<< HEAD
       "      <td>0.000000</td>\n",
       "      <td>3.423188e-16</td>\n",
       "      <td>8.442321e-17</td>\n",
       "      <td>8.789266e-17</td>\n",
       "      <td>-7.170190e-17</td>\n",
       "      <td>-3.700743e-17</td>\n",
       "      <td>-1.017704e-16</td>\n",
       "      <td>2.174187e-16</td>\n",
=======
       "      <td>7.401487e-17</td>\n",
       "      <td>-8.789266e-17</td>\n",
       "      <td>-6.476301e-16</td>\n",
       "      <td>-3.122502e-16</td>\n",
       "      <td>-5.551115e-17</td>\n",
       "      <td>-5.088522e-17</td>\n",
       "      <td>2.498002e-16</td>\n",
       "      <td>1.919761e-16</td>\n",
>>>>>>> 17bbdf589b3ce98321ae25055a352759b11884b6
       "      <td>0.348958</td>\n",
       "    </tr>\n",
       "    <tr>\n",
       "      <th>std</th>\n",
<<<<<<< HEAD
       "      <td>1.000000</td>\n",
=======
       "      <td>1.000000e+00</td>\n",
>>>>>>> 17bbdf589b3ce98321ae25055a352759b11884b6
       "      <td>1.000000e+00</td>\n",
       "      <td>1.000000e+00</td>\n",
       "      <td>1.000000e+00</td>\n",
       "      <td>1.000000e+00</td>\n",
       "      <td>1.000000e+00</td>\n",
       "      <td>1.000000e+00</td>\n",
       "      <td>1.000000e+00</td>\n",
       "      <td>0.476951</td>\n",
       "    </tr>\n",
       "    <tr>\n",
       "      <th>min</th>\n",
<<<<<<< HEAD
       "      <td>-1.855905</td>\n",
       "      <td>-3.745631e+00</td>\n",
       "      <td>-3.552478e+00</td>\n",
       "      <td>-2.562805e+00</td>\n",
       "      <td>-8.268427e-01</td>\n",
=======
       "      <td>-1.147951e+00</td>\n",
       "      <td>-3.745631e+00</td>\n",
       "      <td>-3.552478e+00</td>\n",
       "      <td>-2.562805e+00</td>\n",
       "      <td>-2.791962e+00</td>\n",
>>>>>>> 17bbdf589b3ce98321ae25055a352759b11884b6
       "      <td>-3.844300e+00</td>\n",
       "      <td>-1.188778e+00</td>\n",
       "      <td>-1.050823e+00</td>\n",
       "      <td>0.000000</td>\n",
       "    </tr>\n",
       "    <tr>\n",
       "      <th>25%</th>\n",
<<<<<<< HEAD
       "      <td>-0.976069</td>\n",
       "      <td>-6.546121e-01</td>\n",
       "      <td>-3.555495e-01</td>\n",
       "      <td>-6.846791e-01</td>\n",
       "      <td>-8.268427e-01</td>\n",
=======
       "      <td>-8.525205e-01</td>\n",
       "      <td>-6.546121e-01</td>\n",
       "      <td>-3.555495e-01</td>\n",
       "      <td>-6.846791e-01</td>\n",
       "      <td>-6.815302e-01</td>\n",
>>>>>>> 17bbdf589b3ce98321ae25055a352759b11884b6
       "      <td>-5.428744e-01</td>\n",
       "      <td>-6.885198e-01</td>\n",
       "      <td>-8.037899e-01</td>\n",
       "      <td>0.000000</td>\n",
       "    </tr>\n",
       "    <tr>\n",
       "      <th>50%</th>\n",
<<<<<<< HEAD
       "      <td>0.783604</td>\n",
       "      <td>-9.260871e-02</td>\n",
       "      <td>1.600842e-01</td>\n",
       "      <td>-4.518819e-02</td>\n",
       "      <td>-4.651357e-01</td>\n",
=======
       "      <td>-2.616596e-01</td>\n",
       "      <td>-9.260871e-02</td>\n",
       "      <td>1.600842e-01</td>\n",
       "      <td>-4.518819e-02</td>\n",
       "      <td>-1.387192e-01</td>\n",
>>>>>>> 17bbdf589b3ce98321ae25055a352759b11884b6
       "      <td>2.904983e-02</td>\n",
       "      <td>-2.999328e-01</td>\n",
       "      <td>-3.097244e-01</td>\n",
       "      <td>0.000000</td>\n",
       "    </tr>\n",
       "    <tr>\n",
       "      <th>75%</th>\n",
<<<<<<< HEAD
       "      <td>0.783604</td>\n",
       "      <td>5.942843e-01</td>\n",
       "      <td>5.725911e-01</td>\n",
       "      <td>5.862334e-01</td>\n",
       "      <td>6.822463e-01</td>\n",
=======
       "      <td>6.246318e-01</td>\n",
       "      <td>5.942843e-01</td>\n",
       "      <td>5.725911e-01</td>\n",
       "      <td>5.862334e-01</td>\n",
       "      <td>6.121947e-01</td>\n",
>>>>>>> 17bbdf589b3ce98321ae25055a352759b11884b6
       "      <td>5.646614e-01</td>\n",
       "      <td>4.659233e-01</td>\n",
       "      <td>5.960624e-01</td>\n",
       "      <td>1.000000</td>\n",
       "    </tr>\n",
       "    <tr>\n",
       "      <th>max</th>\n",
<<<<<<< HEAD
       "      <td>0.783604</td>\n",
       "      <td>2.467629e+00</td>\n",
       "      <td>2.738252e+00</td>\n",
       "      <td>7.224122e+00</td>\n",
       "      <td>2.137969e+00</td>\n",
=======
       "      <td>3.874367e+00</td>\n",
       "      <td>2.467629e+00</td>\n",
       "      <td>2.738252e+00</td>\n",
       "      <td>7.224122e+00</td>\n",
       "      <td>1.965304e+00</td>\n",
>>>>>>> 17bbdf589b3ce98321ae25055a352759b11884b6
       "      <td>4.277630e+00</td>\n",
       "      <td>5.879733e+00</td>\n",
       "      <td>3.889832e+00</td>\n",
       "      <td>1.000000</td>\n",
       "    </tr>\n",
       "  </tbody>\n",
       "</table>\n",
       "</div>"
      ],
      "text/plain": [
<<<<<<< HEAD
       "       Pregnancies       Glucose  BloodPressure  SkinThickness       Insulin  \\\n",
       "count   768.000000  7.680000e+02   7.680000e+02   7.680000e+02  7.680000e+02   \n",
       "mean      0.000000  3.423188e-16   8.442321e-17   8.789266e-17 -7.170190e-17   \n",
       "std       1.000000  1.000000e+00   1.000000e+00   1.000000e+00  1.000000e+00   \n",
       "min      -1.855905 -3.745631e+00  -3.552478e+00  -2.562805e+00 -8.268427e-01   \n",
       "25%      -0.976069 -6.546121e-01  -3.555495e-01  -6.846791e-01 -8.268427e-01   \n",
       "50%       0.783604 -9.260871e-02   1.600842e-01  -4.518819e-02 -4.651357e-01   \n",
       "75%       0.783604  5.942843e-01   5.725911e-01   5.862334e-01  6.822463e-01   \n",
       "max       0.783604  2.467629e+00   2.738252e+00   7.224122e+00  2.137969e+00   \n",
       "\n",
       "                BMI  DiabetesPedigreeFunction           Age     Outcome  \n",
       "count  7.680000e+02              7.680000e+02  7.680000e+02  768.000000  \n",
       "mean  -3.700743e-17             -1.017704e-16  2.174187e-16    0.348958  \n",
=======
       "        Pregnancies       Glucose  BloodPressure  SkinThickness       Insulin  \\\n",
       "count  7.680000e+02  7.680000e+02   7.680000e+02   7.680000e+02  7.680000e+02   \n",
       "mean   7.401487e-17 -8.789266e-17  -6.476301e-16  -3.122502e-16 -5.551115e-17   \n",
       "std    1.000000e+00  1.000000e+00   1.000000e+00   1.000000e+00  1.000000e+00   \n",
       "min   -1.147951e+00 -3.745631e+00  -3.552478e+00  -2.562805e+00 -2.791962e+00   \n",
       "25%   -8.525205e-01 -6.546121e-01  -3.555495e-01  -6.846791e-01 -6.815302e-01   \n",
       "50%   -2.616596e-01 -9.260871e-02   1.600842e-01  -4.518819e-02 -1.387192e-01   \n",
       "75%    6.246318e-01  5.942843e-01   5.725911e-01   5.862334e-01  6.121947e-01   \n",
       "max    3.874367e+00  2.467629e+00   2.738252e+00   7.224122e+00  1.965304e+00   \n",
       "\n",
       "                BMI  DiabetesPedigreeFunction           Age     Outcome  \n",
       "count  7.680000e+02              7.680000e+02  7.680000e+02  768.000000  \n",
       "mean  -5.088522e-17              2.498002e-16  1.919761e-16    0.348958  \n",
>>>>>>> 17bbdf589b3ce98321ae25055a352759b11884b6
       "std    1.000000e+00              1.000000e+00  1.000000e+00    0.476951  \n",
       "min   -3.844300e+00             -1.188778e+00 -1.050823e+00    0.000000  \n",
       "25%   -5.428744e-01             -6.885198e-01 -8.037899e-01    0.000000  \n",
       "50%    2.904983e-02             -2.999328e-01 -3.097244e-01    0.000000  \n",
       "75%    5.646614e-01              4.659233e-01  5.960624e-01    1.000000  \n",
       "max    4.277630e+00              5.879733e+00  3.889832e+00    1.000000  "
      ]
     },
<<<<<<< HEAD
     "execution_count": 15,
=======
     "execution_count": 14,
>>>>>>> 17bbdf589b3ce98321ae25055a352759b11884b6
     "metadata": {},
     "output_type": "execute_result"
    }
   ],
   "source": [
    "for feature in features:\n",
    "    df[feature] = (df[feature] - df[feature].mean())/(df[feature].std())\n",
    "df.describe()"
   ]
  },
  {
   "cell_type": "code",
<<<<<<< HEAD
   "execution_count": 16,
   "metadata": {},
   "outputs": [
    {
     "data": {
      "text/plain": [
       "<matplotlib.axes._subplots.AxesSubplot at 0x105250e10>"
      ]
     },
     "execution_count": 16,
     "metadata": {},
     "output_type": "execute_result"
    },
    {
     "data": {
      "image/png": "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\n",
      "text/plain": [
       "<Figure size 432x288 with 1 Axes>"
      ]
     },
     "metadata": {
      "needs_background": "light"
     },
     "output_type": "display_data"
    }
   ],
   "source": [
    "df.plot(x='SkinThickness', y='BMI', style='.')"
   ]
  },
  {
   "cell_type": "code",
   "execution_count": 17,
=======
   "execution_count": 15,
>>>>>>> 17bbdf589b3ce98321ae25055a352759b11884b6
   "metadata": {},
   "outputs": [],
   "source": [
    "accuracy = []\n",
    "\n",
    "for i in range(100):\n",
    "    df = df.sample(frac=1)\n",
<<<<<<< HEAD
    "    X = df[df.columns[1:8]]\n",
=======
    "    X = df[df.columns[0:8]]\n",
>>>>>>> 17bbdf589b3ce98321ae25055a352759b11884b6
    "    y = df[df.columns[8]] \n",
    "    \n",
    "    trainX, valX, trainY, valY = train_test_split(X, y, test_size = 0.20)\n",
    "    lr = LogisticRegression(max_iter=2000, solver='lbfgs')\n",
    "    lr.fit(trainX, trainY)\n",
    "    accuracy.append(lr.score(valX, valY)*100)"
   ]
  },
  {
   "cell_type": "code",
<<<<<<< HEAD
   "execution_count": 18,
=======
   "execution_count": 16,
>>>>>>> 17bbdf589b3ce98321ae25055a352759b11884b6
   "metadata": {},
   "outputs": [],
   "source": [
    "average_accuracy = sum(accuracy)/len(accuracy)"
   ]
  },
  {
   "cell_type": "code",
<<<<<<< HEAD
   "execution_count": 19,
=======
   "execution_count": 17,
>>>>>>> 17bbdf589b3ce98321ae25055a352759b11884b6
   "metadata": {},
   "outputs": [
    {
     "name": "stdout",
     "output_type": "stream",
     "text": [
<<<<<<< HEAD
      "76.80519480519479 83.11688311688312 66.23376623376623\n"
=======
      "76.56493506493503 83.11688311688312 69.48051948051948\n"
>>>>>>> 17bbdf589b3ce98321ae25055a352759b11884b6
     ]
    }
   ],
   "source": [
    "print(average_accuracy, max(accuracy), min(accuracy))"
   ]
  },
  {
   "cell_type": "code",
   "execution_count": null,
   "metadata": {},
   "outputs": [],
   "source": []
  }
 ],
 "metadata": {
  "kernelspec": {
   "display_name": "Python 3",
   "language": "python",
   "name": "python3"
  },
  "language_info": {
   "codemirror_mode": {
    "name": "ipython",
    "version": 3
   },
   "file_extension": ".py",
   "mimetype": "text/x-python",
   "name": "python",
   "nbconvert_exporter": "python",
   "pygments_lexer": "ipython3",
   "version": "3.7.3"
  }
 },
 "nbformat": 4,
 "nbformat_minor": 2
}
